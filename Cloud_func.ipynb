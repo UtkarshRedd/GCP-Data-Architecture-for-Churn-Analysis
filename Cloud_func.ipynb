{
 "cells": [
  {
   "cell_type": "code",
   "execution_count": 97,
   "id": "37cb902d-2a2d-40ba-bcf7-d919ff33c9b0",
   "metadata": {},
   "outputs": [],
   "source": [
    "import pandas as pd\n",
    "import json\n",
    "import numpy as np\n",
    "from google.cloud import bigquery\n",
    "import hashlib"
   ]
  },
  {
   "cell_type": "code",
   "execution_count": 96,
   "id": "0eadcad2-182e-4be4-96f1-6f514508db62",
   "metadata": {},
   "outputs": [],
   "source": [
    "def hello_gcs(event, context):\n",
    "    \"\"\"Triggered by a change to a Cloud Storage bucket.\n",
    "    Args:\n",
    "    event (dict): Event payload.\n",
    "    context (google.cloud.functions.Context): Metadata for the event.\n",
    "    \"\"\"\n",
    "    file = event\n",
    "    #print(f\"Processing file: {file['name']}.\")\n",
    "    path = file['name']\n",
    "    INPUT_PATH = f\"gs://{file['bucket']}/{path}\"\n",
    "    print(INPUT_PATH)\n",
    "    #return INPUT_PATH\n",
    "    if ('customer' in INPUT_PATH):\n",
    "        OUTPUT_PATH = 'test1.func_customer_test1'\n",
    "        return ingest_customer_data(INPUT_PATH, OUTPUT_PATH)\n",
    "    elif ('CDR' in INPUT_PATH):\n",
    "        OUTPUT_PATH = 'test1.func_CDR_test1'\n",
    "        return ingest_CDR_data(INPUT_PATH, OUTPUT_PATH)\n",
    "    elif ('internet' in INPUT_PATH):\n",
    "        OUTPUT_PATH = 'test1.func_internet_test1'\n",
    "        return ingest_internet_data(INPUT_PATH, OUTPUT_PATH)\n",
    "    elif ('transaction' in INPUT_PATH):\n",
    "        OUTPUT_PATH = 'test1.func_trans_test1'\n",
    "        return ingest_trans_data(INPUT_PATH, OUTPUT_PATH)\n",
    "    else:\n",
    "        return 'ERROR'\n",
    "    return 'SUCCESS'\n",
    "\n",
    "def ingest_customer_data(INPUT_PATH, OUTPUT_PATH):\n",
    "    data = pd.read_json(INPUT_PATH, lines=True)\n",
    "    df = pd.DataFrame()\n",
    "    customer_name1 = []\n",
    "    customer_id1 = []\n",
    "    Gender = []\n",
    "    zip_code = []\n",
    "    connection_type = []\n",
    "    connection_plan = []\n",
    "    new_ported = []\n",
    "    old_operator = []\n",
    "    curr_operator = []\n",
    "    phone_number = []\n",
    "    contract_date = []\n",
    "    SSN = []\n",
    "    DL = []\n",
    "    for lab, row in data.iterrows():\n",
    "        customer_name1.append(row['root']['cus_name'])\n",
    "        customer_id1.append(row['root']['cusomer_id'])\n",
    "        Gender.append(row['root']['gender'])\n",
    "        connection_type.append(row['connection']['type'])\n",
    "        connection_plan.append(row['connection']['plan'])\n",
    "        zip_code.append(row['identities']['DL']['address']['zip_code'])\n",
    "        new_ported.append(row['phone']['new/port']['ported'])\n",
    "        old_operator.append(row['phone']['new/port']['old_operator'])\n",
    "        phone_number.append(row['phone']['number'])\n",
    "        curr_operator.append(row['phone']['operator'])\n",
    "        contract_date.append(row['phone']['start_date'])\n",
    "        SSN.append(row['identities']['SSN']['number'])\n",
    "        DL.append(row['identities']['DL']['number'])\n",
    "    df['customer_id'] = customer_id1\n",
    "    df['customer_name'] = customer_name1\n",
    "    df['phone_number'] = phone_number\n",
    "    df['zip_code'] = zip_code\n",
    "    df['Gender'] = Gender\n",
    "    df['connection_type'] = connection_type\n",
    "    df['connection_plan'] = connection_plan\n",
    "    df['new_ported'] = new_ported\n",
    "    df['old_operator'] = old_operator\n",
    "    df['curr_operator'] = curr_operator\n",
    "    df['contract_date'] = contract_date\n",
    "    df['SSN'] = SSN\n",
    "    df['DL'] = DL\n",
    "    df['SSN_hashed'] = df['SSN'].apply(lambda x: hashlib.sha256(x.encode()).hexdigest())\n",
    "    df['DL_hashed'] = df['DL'].apply(lambda x: hashlib.sha256(x.encode()).hexdigest())\n",
    "    df.drop(['SSN', 'DL'], axis = 1, inplace = True)\n",
    "    df.to_gbq(OUTPUT_PATH,  project_id='acn-in-cf-data-ggl-aca-c01-t04', if_exists='replace')\n",
    "    return \"SUCCESS customer data\"\n",
    "\n",
    "def ingest_CDR_data(INPUT_PATH, OUTPUT_PATH):\n",
    "    data = pd.read_json(INPUT_PATH, lines=True)\n",
    "    source_no = []\n",
    "    dest_no = []\n",
    "    start_time = []\n",
    "    duration = []\n",
    "    source_operator = []\n",
    "    dest_operator = []\n",
    "    source_location = []\n",
    "    dest_location = []\n",
    "    disposition = []\n",
    "    for lab, row in data.iterrows():\n",
    "        source_no.append(row['source']['msisdn'])\n",
    "        dest_no.append(row['destination']['msisdn'])\n",
    "        start_time.append(row['root']['start_time'])\n",
    "        duration.append(float(row['root']['duration']))\n",
    "        source_operator.append(row['source']['operator'])\n",
    "        dest_operator.append(row['destination']['operator'])\n",
    "        source_location.append(row['source']['location'])\n",
    "        dest_location.append(row['destination']['location'])\n",
    "        disposition.append(row['root']['disposition'])\n",
    "    df = pd.DataFrame()\n",
    "    df['source_no'] = source_no\n",
    "    df['dest_no'] = dest_no\n",
    "    df['start_time1'] = start_time\n",
    "    df['start_time'] = pd.to_datetime(df['start_time1'])\n",
    "    df.drop('start_time1', axis = 1, inplace = True)\n",
    "    df['duration'] = duration\n",
    "    df['source_operator'] = source_operator\n",
    "    df['dest_operator'] = dest_operator\n",
    "    df['source_location'] = source_location\n",
    "    df['dest_location'] = dest_location\n",
    "    df['disposition'] = disposition\n",
    "    df.replace('nan', np.nan, inplace=True)\n",
    "    df.to_gbq(OUTPUT_PATH,  project_id='acn-in-cf-data-ggl-aca-c01-t04', if_exists='append')\n",
    "    return \"SUCCESS CDR data\"\n",
    "\n",
    "def ingest_internet_data(INPUT_PATH, OUTPUT_PATH):\n",
    "    data = pd.read_json(INPUT_PATH, lines=True)\n",
    "    phone_no = []\n",
    "    source_IP = []\n",
    "    dest_IP = []\n",
    "    start_time = []\n",
    "    source_port = []\n",
    "    dest_port = []\n",
    "    ASN = []\n",
    "    no_of_packets = []\n",
    "    no_of_bytes = []\n",
    "    for lab, row in data.iterrows():\n",
    "        phone_no.append(row['root']['phone_number'])\n",
    "        source_IP.append(row['source']['ip'])\n",
    "        dest_IP.append(row['destination']['ip'])\n",
    "        start_time.append(row['root']['time'])\n",
    "        source_port.append(row['source']['port'])\n",
    "        dest_port.append(row['destination']['port'])\n",
    "        ASN.append(row['root']['asn'])\n",
    "        no_of_packets.append(float(row['root']['num_packets']))\n",
    "        no_of_bytes.append(float(row['root']['num_bytes']))\n",
    "    df = pd.DataFrame()\n",
    "    df['phone_no'] = phone_no\n",
    "    df['source_IP'] = source_IP\n",
    "    df['dest_IP'] = dest_IP\n",
    "    df['start_time1'] = start_time\n",
    "    df['start_time'] = pd.to_datetime(df['start_time1'])\n",
    "    df.drop('start_time1', axis = 1, inplace = True)\n",
    "    df['source_port'] = source_port\n",
    "    df['dest_port'] = dest_port\n",
    "    df['ASN'] = ASN\n",
    "    df['no_of_packets'] = no_of_packets\n",
    "    df['no_of_bytes'] = no_of_bytes\n",
    "    df.replace('nan', np.nan, inplace=True)\n",
    "    df.to_gbq(OUTPUT_PATH,  project_id='acn-in-cf-data-ggl-aca-c01-t04', if_exists='append')\n",
    "    return \"SUCCESS internet data\"\n",
    "\n",
    "def ingest_trans_data(INPUT_PATH, OUTPUT_PATH):\n",
    "    data = pd.read_json(INPUT_PATH, lines=True)\n",
    "    data['transact_date'] = pd.to_datetime(data['transaction_date'])\n",
    "    data.drop('transaction_date', axis = 1, inplace=True)\n",
    "    data.to_gbq(OUTPUT_PATH,  project_id='acn-in-cf-data-ggl-aca-c01-t04', if_exists='append')\n",
    "    return \"SUCCESS transaction data\""
   ]
  },
  {
   "cell_type": "markdown",
   "id": "ee484e3c-3832-4b00-918a-668e1f8c32f9",
   "metadata": {},
   "source": [
    "pandas\n",
    "numpy\n",
    "pandas-gbq"
   ]
  },
  {
   "cell_type": "code",
   "execution_count": 63,
   "id": "e7f930e4-5f2c-4756-93a9-d79283e51cec",
   "metadata": {},
   "outputs": [
    {
     "name": "stdout",
     "output_type": "stream",
     "text": [
      "gs://test-ingestion100/internet/internet_data_json_2021-04-01_00:00:00.json\n"
     ]
    },
    {
     "name": "stderr",
     "output_type": "stream",
     "text": [
      "1it [00:09,  9.03s/it]\n"
     ]
    },
    {
     "data": {
      "text/plain": [
       "'SUCCESS internet data'"
      ]
     },
     "execution_count": 63,
     "metadata": {},
     "output_type": "execute_result"
    }
   ],
   "source": [
    "event = {\"bucket\":\"test-ingestion100\", \"name\":\"internet/internet_data_json_2021-04-01_00:00:00.json\"}\n",
    "hello_gcs(event, \"hello\")"
   ]
  },
  {
   "cell_type": "code",
   "execution_count": 50,
   "id": "3af943eb-f1bc-40b8-86d2-409a0f557569",
   "metadata": {},
   "outputs": [
    {
     "name": "stdout",
     "output_type": "stream",
     "text": [
      "NO\n"
     ]
    }
   ],
   "source": [
    "if('customer' in INPUT_PATH):\n",
    "    print(\"YES\")\n",
    "else: print(\"NO\")"
   ]
  },
  {
   "cell_type": "code",
   "execution_count": 66,
   "id": "babfd37b-7e40-4200-9327-90a538cc43ca",
   "metadata": {},
   "outputs": [
    {
     "name": "stdout",
     "output_type": "stream",
     "text": [
      "Requirement already satisfied: fsspec in /opt/conda/lib/python3.7/site-packages (2021.8.1)\n"
     ]
    }
   ],
   "source": [
    "!pip3 install fsspec"
   ]
  },
  {
   "cell_type": "code",
   "execution_count": 70,
   "id": "4d7f2a32-597a-4551-bb41-f7ccaa0bb858",
   "metadata": {},
   "outputs": [
    {
     "name": "stdout",
     "output_type": "stream",
     "text": [
      "Requirement already satisfied: gcsfs in /opt/conda/lib/python3.7/site-packages (2021.8.1)\n",
      "Requirement already satisfied: requests in /opt/conda/lib/python3.7/site-packages (from gcsfs) (2.25.1)\n",
      "Requirement already satisfied: google-auth>=1.2 in /opt/conda/lib/python3.7/site-packages (from gcsfs) (1.35.0)\n",
      "Requirement already satisfied: decorator in /opt/conda/lib/python3.7/site-packages (from gcsfs) (5.1.0)\n",
      "Requirement already satisfied: fsspec==2021.08.1 in /opt/conda/lib/python3.7/site-packages (from gcsfs) (2021.8.1)\n",
      "Requirement already satisfied: aiohttp in /opt/conda/lib/python3.7/site-packages (from gcsfs) (3.7.4.post0)\n",
      "Requirement already satisfied: google-auth-oauthlib in /opt/conda/lib/python3.7/site-packages (from gcsfs) (0.4.6)\n",
      "Requirement already satisfied: rsa<5,>=3.1.4 in /opt/conda/lib/python3.7/site-packages (from google-auth>=1.2->gcsfs) (4.7.2)\n",
      "Requirement already satisfied: pyasn1-modules>=0.2.1 in /opt/conda/lib/python3.7/site-packages (from google-auth>=1.2->gcsfs) (0.2.7)\n",
      "Requirement already satisfied: cachetools<5.0,>=2.0.0 in /opt/conda/lib/python3.7/site-packages (from google-auth>=1.2->gcsfs) (4.2.2)\n",
      "Requirement already satisfied: six>=1.9.0 in /opt/conda/lib/python3.7/site-packages (from google-auth>=1.2->gcsfs) (1.16.0)\n",
      "Requirement already satisfied: setuptools>=40.3.0 in /opt/conda/lib/python3.7/site-packages (from google-auth>=1.2->gcsfs) (58.0.4)\n",
      "Requirement already satisfied: pyasn1<0.5.0,>=0.4.6 in /opt/conda/lib/python3.7/site-packages (from pyasn1-modules>=0.2.1->google-auth>=1.2->gcsfs) (0.4.8)\n",
      "Requirement already satisfied: multidict<7.0,>=4.5 in /opt/conda/lib/python3.7/site-packages (from aiohttp->gcsfs) (5.1.0)\n",
      "Requirement already satisfied: yarl<2.0,>=1.0 in /opt/conda/lib/python3.7/site-packages (from aiohttp->gcsfs) (1.6.3)\n",
      "Requirement already satisfied: attrs>=17.3.0 in /opt/conda/lib/python3.7/site-packages (from aiohttp->gcsfs) (21.2.0)\n",
      "Requirement already satisfied: chardet<5.0,>=2.0 in /opt/conda/lib/python3.7/site-packages (from aiohttp->gcsfs) (4.0.0)\n",
      "Requirement already satisfied: async-timeout<4.0,>=3.0 in /opt/conda/lib/python3.7/site-packages (from aiohttp->gcsfs) (3.0.1)\n",
      "Requirement already satisfied: typing-extensions>=3.6.5 in /opt/conda/lib/python3.7/site-packages (from aiohttp->gcsfs) (3.10.0.2)\n",
      "Requirement already satisfied: idna>=2.0 in /opt/conda/lib/python3.7/site-packages (from yarl<2.0,>=1.0->aiohttp->gcsfs) (2.10)\n",
      "Requirement already satisfied: requests-oauthlib>=0.7.0 in /opt/conda/lib/python3.7/site-packages (from google-auth-oauthlib->gcsfs) (1.3.0)\n",
      "Requirement already satisfied: oauthlib>=3.0.0 in /opt/conda/lib/python3.7/site-packages (from requests-oauthlib>=0.7.0->google-auth-oauthlib->gcsfs) (3.1.1)\n",
      "Requirement already satisfied: urllib3<1.27,>=1.21.1 in /opt/conda/lib/python3.7/site-packages (from requests->gcsfs) (1.26.6)\n",
      "Requirement already satisfied: certifi>=2017.4.17 in /opt/conda/lib/python3.7/site-packages (from requests->gcsfs) (2021.5.30)\n"
     ]
    }
   ],
   "source": [
    "!pip3 install gcsfs"
   ]
  },
  {
   "cell_type": "code",
   "execution_count": 93,
   "id": "f9edebf5-9ac8-4bc0-875c-5d2eb71e2321",
   "metadata": {},
   "outputs": [],
   "source": [
    "def ingest_CDR_data(INPUT_PATH):\n",
    "    data = pd.read_json(INPUT_PATH, lines=True)\n",
    "    source_no = []\n",
    "    dest_no = []\n",
    "    start_time = []\n",
    "    duration = []\n",
    "    source_operator = []\n",
    "    dest_operator = []\n",
    "    source_location = []\n",
    "    dest_location = []\n",
    "    disposition = []\n",
    "    for lab, row in data.iterrows():\n",
    "        source_no.append(row['source']['msisdn'])\n",
    "        dest_no.append(row['destination']['msisdn'])\n",
    "        start_time.append(row['root']['start_time'])\n",
    "        duration.append(float(row['root']['duration']))\n",
    "        source_operator.append(row['source']['operator'])\n",
    "        dest_operator.append(row['destination']['operator'])\n",
    "        source_location.append(row['source']['location'])\n",
    "        dest_location.append(row['destination']['location'])\n",
    "        disposition.append(row['root']['disposition'])\n",
    "    df = pd.DataFrame()\n",
    "    df['source_no'] = source_no\n",
    "    df['dest_no'] = dest_no\n",
    "    df['start_time1'] = start_time\n",
    "    df['start_time'] = pd.to_datetime(df['start_time1'])\n",
    "    df.drop('start_time1', axis = 1, inplace = True)\n",
    "    df['duration'] = duration\n",
    "    df['source_operator'] = source_operator\n",
    "    df['dest_operator'] = dest_operator\n",
    "    df['source_location'] = source_location\n",
    "    df['dest_location'] = dest_location\n",
    "    df['disposition'] = disposition\n",
    "    df.replace('nan', np.nan, inplace=True)\n",
    "    #df.to_gbq(OUTPUT_PATH,  project_id='acn-in-cf-data-ggl-aca-c01-t04', if_exists='append')\n",
    "    client = bigquery.Client(project='acn-in-cf-data-ggl-aca-c01-t04')\n",
    "    table_id = 'test1.CDR_special'\n",
    "    job_config = bigquery.LoadJobConfig(autodetect=True, write_disposition=bigquery.WriteDisposition.WRITE_APPEND)\n",
    "    try:\n",
    "        load_job = client.load_table_from_dataframe(df, table_id, job_config=job_config)  # Make an API request.\n",
    "        job.result()\n",
    "        return 'SUCCESS CDR'\n",
    "    except:\n",
    "        return 'ERROR'\n",
    "    #return \"SUCCESS CDR data\""
   ]
  },
  {
   "cell_type": "code",
   "execution_count": 95,
   "id": "ddefaeb6-0c06-441d-95f2-604b866c8d78",
   "metadata": {},
   "outputs": [
    {
     "ename": "NameError",
     "evalue": "name 'df' is not defined",
     "output_type": "error",
     "traceback": [
      "\u001b[0;31m---------------------------------------------------------------------------\u001b[0m",
      "\u001b[0;31mNameError\u001b[0m                                 Traceback (most recent call last)",
      "\u001b[0;32m/tmp/ipykernel_24811/964094849.py\u001b[0m in \u001b[0;36m<module>\u001b[0;34m\u001b[0m\n\u001b[0;32m----> 1\u001b[0;31m \u001b[0mdf\u001b[0m\u001b[0;34m.\u001b[0m\u001b[0mhead\u001b[0m\u001b[0;34m(\u001b[0m\u001b[0;34m)\u001b[0m\u001b[0;34m\u001b[0m\u001b[0;34m\u001b[0m\u001b[0m\n\u001b[0m",
      "\u001b[0;31mNameError\u001b[0m: name 'df' is not defined"
     ]
    }
   ],
   "source": [
    "df.head()"
   ]
  },
  {
   "cell_type": "code",
   "execution_count": 86,
   "id": "99be8189-726e-4f42-a085-f9cc34294861",
   "metadata": {},
   "outputs": [],
   "source": [
    "def df_to_bq(df, table_id, client):\n",
    "    job_config = bigquery.LoadJobConfig(autodetect=True, write_disposition=bigquery.WriteDisposition.WRITE_APPEND)\n",
    "    #table = get_bigquery_table(table_id, dataset_id, client)\n",
    "    try:\n",
    "        load_job = client.load_table_from_dataframe(df, table_id, job_config=job_config)  # Make an API request.\n",
    "        load_job.result()  # Waits for the job to complete.\n",
    "        # if load_job.errors:\n",
    "        #     logging.info(f\"result={load_job.error_result}\")\n",
    "        #     logging.info(f\"errors = {load_job.errors}\")\n",
    "        # else:\n",
    "        #     logging.info(f'Loaded {len(df)} rows.')\n",
    "\n",
    "    except Exception as error:\n",
    "        return 'Error'\n",
    "\n",
    "    # if load_job.errors:\n",
    "    #     logging.info(f\"result={load_job.error_result}\")\n",
    "    #     logging.info(f\"errors={load_job.errors}\")\n",
    "    #return table\n",
    "    return 'SUCCESS'"
   ]
  },
  {
   "cell_type": "code",
   "execution_count": 94,
   "id": "efc47be1-6c63-4887-9b3d-fc891b236d78",
   "metadata": {},
   "outputs": [
    {
     "data": {
      "text/plain": [
       "'ERROR'"
      ]
     },
     "execution_count": 94,
     "metadata": {},
     "output_type": "execute_result"
    }
   ],
   "source": [
    "ingest_CDR_data('gs://test-ingestion100/CDR/data_json_2021-04-01_00:00:00.json')"
   ]
  },
  {
   "cell_type": "code",
   "execution_count": null,
   "id": "8a413e0f-ff84-4d68-84a5-6159beaae5ab",
   "metadata": {},
   "outputs": [],
   "source": []
  }
 ],
 "metadata": {
  "environment": {
   "name": "common-cpu.m80",
   "type": "gcloud",
   "uri": "gcr.io/deeplearning-platform-release/base-cpu:m80"
  },
  "kernelspec": {
   "display_name": "Python 3",
   "language": "python",
   "name": "python3"
  },
  "language_info": {
   "codemirror_mode": {
    "name": "ipython",
    "version": 3
   },
   "file_extension": ".py",
   "mimetype": "text/x-python",
   "name": "python",
   "nbconvert_exporter": "python",
   "pygments_lexer": "ipython3",
   "version": "3.8.10"
  }
 },
 "nbformat": 4,
 "nbformat_minor": 5
}
