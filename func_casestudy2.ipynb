{
 "cells": [
  {
   "cell_type": "code",
   "execution_count": 10,
   "id": "b962374d-1e1d-44f3-8676-290fa146ec81",
   "metadata": {},
   "outputs": [
    {
     "ename": "SyntaxError",
     "evalue": "EOL while scanning string literal (<ipython-input-10-a366c97895fc>, line 1)",
     "output_type": "error",
     "traceback": [
      "\u001b[1;36m  File \u001b[1;32m\"<ipython-input-10-a366c97895fc>\"\u001b[1;36m, line \u001b[1;32m1\u001b[0m\n\u001b[1;33m    string = \"The history of textbooks dates back to ancient civilizations. For example, Ancient Greeks wrote educational texts. The modern textbook has its roots in the mass production made possible by the printing press. Johannes Gutenberg himself may have printed editions of Ars Minor, a schoolbook on Latin grammar by Aelius Donatus. Early textbooks were used by tutors and teachers (e.g. alphabet books), as well as by individuals who taught themselves.\u001b[0m\n\u001b[1;37m                                                                                                                                                                                                                                                                                                                                                                                                                                                                           ^\u001b[0m\n\u001b[1;31mSyntaxError\u001b[0m\u001b[1;31m:\u001b[0m EOL while scanning string literal\n"
     ]
    }
   ],
   "source": [
    "string = \"\""
   ]
  },
  {
   "cell_type": "code",
   "execution_count": 8,
   "id": "af05f12f-8608-4d53-9425-0928bdee30f9",
   "metadata": {},
   "outputs": [],
   "source": [
    "from google.cloud import storage, bigquery\n",
    "bq_client = bigquery.Client()\n",
    "client = storage.Client()\n",
    "bucket = client.bucket(bucket_name)"
   ]
  },
  {
   "cell_type": "code",
   "execution_count": 6,
   "id": "d8c8f478-93d6-4463-918b-37f1f7634b74",
   "metadata": {},
   "outputs": [],
   "source": [
    "#Create a bigquery table with file_name, number of lines, number of words as  the schema"
   ]
  },
  {
   "cell_type": "code",
   "execution_count": 9,
   "id": "9e498f9c-778b-4df7-b7af-60f485939fe8",
   "metadata": {},
   "outputs": [
    {
     "ename": "SyntaxError",
     "evalue": "invalid syntax (2769990823.py, line 1)",
     "output_type": "error",
     "traceback": [
      "\u001b[0;36m  File \u001b[0;32m\"/tmp/ipykernel_5138/2769990823.py\"\u001b[0;36m, line \u001b[0;32m1\u001b[0m\n\u001b[0;31m    def case_study2(bucket_name, filename)\u001b[0m\n\u001b[0m                                          ^\u001b[0m\n\u001b[0;31mSyntaxError\u001b[0m\u001b[0;31m:\u001b[0m invalid syntax\n"
     ]
    }
   ],
   "source": [
    "def case_study2(bucket_name, filename)\n",
    "    blob = bucket.blob(file_name)\n",
    "    data = blob.download_as_text()\n",
    "    lines = data.split('\\n')\n",
    "    number_lines = len(lines)\n",
    "    words = 0\n",
    "    for line in lines:\n",
    "        a = len(line.split(' '))\n",
    "        words = wrods+a\n",
    "    sql = \"INSERT INTO  <tablename> values ({}, {}, {})\".format(file_name, lines, words)\n",
    "    bq_client.query(sql).result()\n",
    "    return 'Successful'"
   ]
  },
  {
   "cell_type": "code",
   "execution_count": null,
   "id": "b7dd751d-f8de-4e4d-8e33-46bb970b220b",
   "metadata": {},
   "outputs": [],
   "source": [
    "#INSERT INTO  <tablename> values ('file1', 'length', 'words')\n",
    "#Add google-cloud-storage and google-cloud-bigquery to requirements.txt\n",
    "#Copy the files from the given urls"
   ]
  }
 ],
 "metadata": {
  "environment": {
   "name": "common-cpu.m80",
   "type": "gcloud",
   "uri": "gcr.io/deeplearning-platform-release/base-cpu:m80"
  },
  "kernelspec": {
   "display_name": "Python 3",
   "language": "python",
   "name": "python3"
  },
  "language_info": {
   "codemirror_mode": {
    "name": "ipython",
    "version": 3
   },
   "file_extension": ".py",
   "mimetype": "text/x-python",
   "name": "python",
   "nbconvert_exporter": "python",
   "pygments_lexer": "ipython3",
   "version": "3.7.10"
  }
 },
 "nbformat": 4,
 "nbformat_minor": 5
}
