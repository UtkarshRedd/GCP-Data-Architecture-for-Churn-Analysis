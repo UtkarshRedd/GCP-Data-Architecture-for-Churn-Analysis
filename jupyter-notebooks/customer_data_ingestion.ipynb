{
 "cells": [
  {
   "cell_type": "markdown",
   "id": "2a25c5dc",
   "metadata": {},
   "source": [
    "## Installing and Importing the necessary libraries"
   ]
  },
  {
   "cell_type": "code",
   "execution_count": 146,
   "id": "a29f8761-6467-47e1-b7dc-446ce422404e",
   "metadata": {},
   "outputs": [
    {
     "name": "stdout",
     "output_type": "stream",
     "text": [
      "Collecting pandas-gbq\n",
      "  Downloading pandas_gbq-0.15.0-py3-none-any.whl (25 kB)\n",
      "Requirement already satisfied: setuptools in /opt/conda/lib/python3.7/site-packages (from pandas-gbq) (58.0.4)\n",
      "Requirement already satisfied: google-auth in /opt/conda/lib/python3.7/site-packages (from pandas-gbq) (1.35.0)\n",
      "Requirement already satisfied: google-auth-oauthlib in /opt/conda/lib/python3.7/site-packages (from pandas-gbq) (0.4.6)\n",
      "Collecting pydata-google-auth\n",
      "  Downloading pydata_google_auth-1.2.0-py2.py3-none-any.whl (13 kB)\n",
      "Requirement already satisfied: google-cloud-bigquery[bqstorage,pandas]!=2.4.*,<3.0.0dev,>=1.11.1 in /opt/conda/lib/python3.7/site-packages (from pandas-gbq) (2.26.0)\n",
      "Requirement already satisfied: pandas>=0.23.2 in /opt/conda/lib/python3.7/site-packages (from pandas-gbq) (1.3.3)\n",
      "Requirement already satisfied: google-resumable-media<3.0dev,>=0.6.0 in /opt/conda/lib/python3.7/site-packages (from google-cloud-bigquery[bqstorage,pandas]!=2.4.*,<3.0.0dev,>=1.11.1->pandas-gbq) (2.0.3)\n",
      "Requirement already satisfied: google-cloud-core<3.0.0dev,>=1.4.1 in /opt/conda/lib/python3.7/site-packages (from google-cloud-bigquery[bqstorage,pandas]!=2.4.*,<3.0.0dev,>=1.11.1->pandas-gbq) (2.0.0)\n",
      "Requirement already satisfied: packaging>=14.3 in /opt/conda/lib/python3.7/site-packages (from google-cloud-bigquery[bqstorage,pandas]!=2.4.*,<3.0.0dev,>=1.11.1->pandas-gbq) (21.0)\n",
      "Requirement already satisfied: proto-plus>=1.10.0 in /opt/conda/lib/python3.7/site-packages (from google-cloud-bigquery[bqstorage,pandas]!=2.4.*,<3.0.0dev,>=1.11.1->pandas-gbq) (1.19.0)\n",
      "Requirement already satisfied: grpcio<2.0dev,>=1.38.1 in /opt/conda/lib/python3.7/site-packages (from google-cloud-bigquery[bqstorage,pandas]!=2.4.*,<3.0.0dev,>=1.11.1->pandas-gbq) (1.38.1)\n",
      "Requirement already satisfied: google-api-core[grpc]<3.0.0dev,>=1.29.0 in /opt/conda/lib/python3.7/site-packages (from google-cloud-bigquery[bqstorage,pandas]!=2.4.*,<3.0.0dev,>=1.11.1->pandas-gbq) (1.31.2)\n",
      "Requirement already satisfied: protobuf>=3.12.0 in /opt/conda/lib/python3.7/site-packages (from google-cloud-bigquery[bqstorage,pandas]!=2.4.*,<3.0.0dev,>=1.11.1->pandas-gbq) (3.18.0)\n",
      "Requirement already satisfied: requests<3.0.0dev,>=2.18.0 in /opt/conda/lib/python3.7/site-packages (from google-cloud-bigquery[bqstorage,pandas]!=2.4.*,<3.0.0dev,>=1.11.1->pandas-gbq) (2.25.1)\n",
      "Requirement already satisfied: pyarrow<6.0dev,>=3.0.0 in /opt/conda/lib/python3.7/site-packages (from google-cloud-bigquery[bqstorage,pandas]!=2.4.*,<3.0.0dev,>=1.11.1->pandas-gbq) (5.0.0)\n",
      "Requirement already satisfied: google-cloud-bigquery-storage<3.0.0dev,>=2.0.0 in /opt/conda/lib/python3.7/site-packages (from google-cloud-bigquery[bqstorage,pandas]!=2.4.*,<3.0.0dev,>=1.11.1->pandas-gbq) (2.8.0)\n",
      "Requirement already satisfied: pytz in /opt/conda/lib/python3.7/site-packages (from google-api-core[grpc]<3.0.0dev,>=1.29.0->google-cloud-bigquery[bqstorage,pandas]!=2.4.*,<3.0.0dev,>=1.11.1->pandas-gbq) (2021.1)\n",
      "Requirement already satisfied: googleapis-common-protos<2.0dev,>=1.6.0 in /opt/conda/lib/python3.7/site-packages (from google-api-core[grpc]<3.0.0dev,>=1.29.0->google-cloud-bigquery[bqstorage,pandas]!=2.4.*,<3.0.0dev,>=1.11.1->pandas-gbq) (1.53.0)\n",
      "Requirement already satisfied: six>=1.13.0 in /opt/conda/lib/python3.7/site-packages (from google-api-core[grpc]<3.0.0dev,>=1.29.0->google-cloud-bigquery[bqstorage,pandas]!=2.4.*,<3.0.0dev,>=1.11.1->pandas-gbq) (1.16.0)\n",
      "Requirement already satisfied: rsa<5,>=3.1.4 in /opt/conda/lib/python3.7/site-packages (from google-auth->pandas-gbq) (4.7.2)\n",
      "Requirement already satisfied: cachetools<5.0,>=2.0.0 in /opt/conda/lib/python3.7/site-packages (from google-auth->pandas-gbq) (4.2.2)\n",
      "Requirement already satisfied: pyasn1-modules>=0.2.1 in /opt/conda/lib/python3.7/site-packages (from google-auth->pandas-gbq) (0.2.7)\n",
      "Requirement already satisfied: libcst>=0.2.5 in /opt/conda/lib/python3.7/site-packages (from google-cloud-bigquery-storage<3.0.0dev,>=2.0.0->google-cloud-bigquery[bqstorage,pandas]!=2.4.*,<3.0.0dev,>=1.11.1->pandas-gbq) (0.3.21)\n",
      "Requirement already satisfied: google-crc32c<2.0dev,>=1.0 in /opt/conda/lib/python3.7/site-packages (from google-resumable-media<3.0dev,>=0.6.0->google-cloud-bigquery[bqstorage,pandas]!=2.4.*,<3.0.0dev,>=1.11.1->pandas-gbq) (1.2.0)\n",
      "Requirement already satisfied: typing-inspect>=0.4.0 in /opt/conda/lib/python3.7/site-packages (from libcst>=0.2.5->google-cloud-bigquery-storage<3.0.0dev,>=2.0.0->google-cloud-bigquery[bqstorage,pandas]!=2.4.*,<3.0.0dev,>=1.11.1->pandas-gbq) (0.7.1)\n",
      "Requirement already satisfied: pyyaml>=5.2 in /opt/conda/lib/python3.7/site-packages (from libcst>=0.2.5->google-cloud-bigquery-storage<3.0.0dev,>=2.0.0->google-cloud-bigquery[bqstorage,pandas]!=2.4.*,<3.0.0dev,>=1.11.1->pandas-gbq) (5.4.1)\n",
      "Requirement already satisfied: typing-extensions>=3.7.4.2 in /opt/conda/lib/python3.7/site-packages (from libcst>=0.2.5->google-cloud-bigquery-storage<3.0.0dev,>=2.0.0->google-cloud-bigquery[bqstorage,pandas]!=2.4.*,<3.0.0dev,>=1.11.1->pandas-gbq) (3.10.0.2)\n",
      "Requirement already satisfied: pyparsing>=2.0.2 in /opt/conda/lib/python3.7/site-packages (from packaging>=14.3->google-cloud-bigquery[bqstorage,pandas]!=2.4.*,<3.0.0dev,>=1.11.1->pandas-gbq) (2.4.7)\n",
      "Requirement already satisfied: numpy>=1.17.3 in /opt/conda/lib/python3.7/site-packages (from pandas>=0.23.2->pandas-gbq) (1.19.5)\n",
      "Requirement already satisfied: python-dateutil>=2.7.3 in /opt/conda/lib/python3.7/site-packages (from pandas>=0.23.2->pandas-gbq) (2.8.2)\n",
      "Requirement already satisfied: pyasn1<0.5.0,>=0.4.6 in /opt/conda/lib/python3.7/site-packages (from pyasn1-modules>=0.2.1->google-auth->pandas-gbq) (0.4.8)\n",
      "Requirement already satisfied: certifi>=2017.4.17 in /opt/conda/lib/python3.7/site-packages (from requests<3.0.0dev,>=2.18.0->google-cloud-bigquery[bqstorage,pandas]!=2.4.*,<3.0.0dev,>=1.11.1->pandas-gbq) (2021.5.30)\n",
      "Requirement already satisfied: urllib3<1.27,>=1.21.1 in /opt/conda/lib/python3.7/site-packages (from requests<3.0.0dev,>=2.18.0->google-cloud-bigquery[bqstorage,pandas]!=2.4.*,<3.0.0dev,>=1.11.1->pandas-gbq) (1.26.6)\n",
      "Requirement already satisfied: chardet<5,>=3.0.2 in /opt/conda/lib/python3.7/site-packages (from requests<3.0.0dev,>=2.18.0->google-cloud-bigquery[bqstorage,pandas]!=2.4.*,<3.0.0dev,>=1.11.1->pandas-gbq) (4.0.0)\n",
      "Requirement already satisfied: idna<3,>=2.5 in /opt/conda/lib/python3.7/site-packages (from requests<3.0.0dev,>=2.18.0->google-cloud-bigquery[bqstorage,pandas]!=2.4.*,<3.0.0dev,>=1.11.1->pandas-gbq) (2.10)\n",
      "Requirement already satisfied: mypy-extensions>=0.3.0 in /opt/conda/lib/python3.7/site-packages (from typing-inspect>=0.4.0->libcst>=0.2.5->google-cloud-bigquery-storage<3.0.0dev,>=2.0.0->google-cloud-bigquery[bqstorage,pandas]!=2.4.*,<3.0.0dev,>=1.11.1->pandas-gbq) (0.4.3)\n",
      "Requirement already satisfied: requests-oauthlib>=0.7.0 in /opt/conda/lib/python3.7/site-packages (from google-auth-oauthlib->pandas-gbq) (1.3.0)\n",
      "Requirement already satisfied: oauthlib>=3.0.0 in /opt/conda/lib/python3.7/site-packages (from requests-oauthlib>=0.7.0->google-auth-oauthlib->pandas-gbq) (3.1.1)\n",
      "Installing collected packages: pydata-google-auth, pandas-gbq\n",
      "Successfully installed pandas-gbq-0.15.0 pydata-google-auth-1.2.0\n"
     ]
    }
   ],
   "source": [
    "!pip3 install pandas-gbq"
   ]
  },
  {
   "cell_type": "code",
   "execution_count": 36,
   "id": "89239221-ff87-4360-8698-02d21a0cdcc1",
   "metadata": {},
   "outputs": [],
   "source": [
    "import pandas as pd\n",
    "import json\n",
    "from google.cloud import storage\n",
    "from pyspark.sql import SparkSession\n",
    "import re\n",
    "import ast\n",
    "from google.cloud import bigquery\n",
    "import numpy as np\n",
    "import hashlib"
   ]
  },
  {
   "cell_type": "code",
   "execution_count": 43,
   "id": "abcd1220-0e4f-46ac-9234-e39f2636423e",
   "metadata": {},
   "outputs": [],
   "source": [
    "def ingest_customer_data(INPUT_PATH, OUTPUT_PATH):\n",
    "    '''\n",
    "    Function to ingest the Customer Data\n",
    "    '''\n",
    "    data = pd.read_json(INPUT_PATH, lines=True)\n",
    "    df = pd.DataFrame()\n",
    "    customer_name1 = []\n",
    "    customer_id1 = []\n",
    "    Gender = []\n",
    "    zip_code = []\n",
    "    connection_type = []\n",
    "    connection_plan = []\n",
    "    new_ported = []\n",
    "    old_operator = []\n",
    "    curr_operator = []\n",
    "    phone_number = []\n",
    "    contract_date = []\n",
    "    SSN = []\n",
    "    DL = []\n",
    "    for lab, row in data.iterrows():\n",
    "        customer_name1.append(row['root']['cus_name'])\n",
    "        customer_id1.append(row['root']['cusomer_id'])\n",
    "        Gender.append(row['root']['gender'])\n",
    "        connection_type.append(row['connection']['type'])\n",
    "        connection_plan.append(row['connection']['plan'])\n",
    "        zip_code.append(row['identities']['DL']['address']['zip_code'])\n",
    "        new_ported.append(row['phone']['new/port']['ported'])\n",
    "        old_operator.append(row['phone']['new/port']['old_operator'])\n",
    "        phone_number.append(row['phone']['number'])\n",
    "        curr_operator.append(row['phone']['operator'])\n",
    "        contract_date.append(row['phone']['start_date'])\n",
    "        SSN.append(row['identities']['SSN']['number'])\n",
    "        DL.append(row['identities']['DL']['number'])\n",
    "    df['customer_id'] = customer_id1\n",
    "    df['customer_name'] = customer_name1\n",
    "    df['phone_number'] = phone_number\n",
    "    df['zip_code'] = zip_code\n",
    "    df['Gender'] = Gender\n",
    "    df['connection_type'] = connection_type\n",
    "    df['connection_plan'] = connection_plan\n",
    "    df['new_ported'] = new_ported\n",
    "    df['old_operator'] = old_operator\n",
    "    df['curr_operator'] = curr_operator\n",
    "    df['contract_date'] = contract_date\n",
    "    df['SSN'] = SSN\n",
    "    df['DL'] = DL\n",
    "    df['SSN_hashed'] = df['SSN'].apply(lambda x: hashlib.sha256(x.encode()).hexdigest())\n",
    "    df['DL_hashed'] = df['DL'].apply(lambda x: hashlib.sha256(x.encode()).hexdigest())\n",
    "    df.drop(['SSN', 'DL'], axis = 1, inplace = True)\n",
    "    df.to_gbq(OUTPUT_PATH,  project_id='acn-in-cf-data-ggl-aca-c01-t04', if_exists='replace')"
   ]
  },
  {
   "cell_type": "markdown",
   "id": "fac99538",
   "metadata": {},
   "source": [
    "## Reading Customer Data"
   ]
  },
  {
   "cell_type": "code",
   "execution_count": 44,
   "id": "f5401d44-51ab-4a8f-911d-25464113ddc7",
   "metadata": {},
   "outputs": [
    {
     "name": "stderr",
     "output_type": "stream",
     "text": [
      "1it [00:13, 13.19s/it]\n"
     ]
    }
   ],
   "source": [
    "ingest_customer_data(\"gs://in-telecom-t4/Test/customer_data.json\", 'test1.customer_data_id1')"
   ]
  },
  {
   "cell_type": "markdown",
   "id": "318c660f-d3fa-4370-9cbc-1cf7155a9804",
   "metadata": {},
   "source": [
    "## EDA of a sample of the customer data"
   ]
  },
  {
   "cell_type": "code",
   "execution_count": 5,
   "id": "3e482489-e7c3-46e0-947d-e971e5b0db6f",
   "metadata": {},
   "outputs": [],
   "source": [
    "data = pd.read_json(\"gs://in-telecom-t4/Test/customer_data.json\", lines=True)"
   ]
  },
  {
   "cell_type": "code",
   "execution_count": 25,
   "id": "1e165fa3-ac52-4b55-a210-03f632f08414",
   "metadata": {},
   "outputs": [
    {
     "name": "stdout",
     "output_type": "stream",
     "text": [
      "{'cus_name': 'Heather Johnson', 'cusomer_id': '028146e6-edc8-4b4e-8d87-69fc952d4f01', 'marital_status': 'Married', 'gender': 'Female', 'DOB': '19840105', 'occupation': 'Information Technology', 'address': {'cus_home': 'Unit 5824 Box 8279', 'cus_city': 'DPO AE 03217', 'cus_zipcode': '03217', 'cus_state': 'AE'}}\n",
      "{'SSN': {'number': '106-12-5365'}, 'DL': {'number': 'UY1814444734234', 'address': {'home': 'Unit 5824 Box 8279', 'city': 'DPO AE 03217', 'state': 'AE', 'zip_code': '03217'}}}\n",
      "{'name': 'Jamie Scott', 'address': {'home': '51348 Baker Glens', 'city': 'Lake Deborahchester', 'state': 'TN', 'zipcode': '61108'}}\n",
      "{'plan': 'Both', 'type': 'Prepaid'}\n",
      "{'number': '5034147053569', 'operator': 'P-Mobile', 'start_date': '20141122', 'new/port': {'ported': True, 'old_operator': 'Martinez LLC'}}\n",
      "{'number': 2034378496853, 'operator': 'Bird PLC'}\n"
     ]
    }
   ],
   "source": [
    "for cols in data.columns:\n",
    "    print(data[cols][0])"
   ]
  },
  {
   "cell_type": "code",
   "execution_count": 7,
   "id": "b8a539e4-3d29-4e57-bc29-2da56e565c8f",
   "metadata": {},
   "outputs": [
    {
     "data": {
      "text/plain": [
       "root    {'cus_name': 'Heather Johnson', 'cusomer_id': ...\n",
       "Name: 0, dtype: object"
      ]
     },
     "execution_count": 7,
     "metadata": {},
     "output_type": "execute_result"
    }
   ],
   "source": [
    "data[['root']].loc[0]"
   ]
  },
  {
   "cell_type": "code",
   "execution_count": 8,
   "id": "fb6ac464-e819-4f2b-b4ef-489d38aa6c6f",
   "metadata": {},
   "outputs": [],
   "source": [
    "storage_client = storage.Client()\n",
    "bucket = storage_client.get_bucket(\"in-telecom-t4\")\n",
    "blob = bucket.get_blob(\"Test/customer_data.json\")\n",
    "multi_json = blob.download_as_text()"
   ]
  },
  {
   "cell_type": "code",
   "execution_count": 10,
   "id": "f815cf8d-e363-47f0-8fc2-024c19d18af6",
   "metadata": {},
   "outputs": [
    {
     "data": {
      "text/plain": [
       "'{\"root\":{\"cus_name\":\"Heather Johnson\",\"cusomer_id\":\"028146e6-edc8-4b4e-8d87-69fc952d4f01\",\"marital_s'"
      ]
     },
     "execution_count": 10,
     "metadata": {},
     "output_type": "execute_result"
    }
   ],
   "source": [
    "multi_json[:100]"
   ]
  },
  {
   "cell_type": "code",
   "execution_count": 11,
   "id": "cb6750d1-7bad-469c-8e9d-e58451bef25f",
   "metadata": {},
   "outputs": [],
   "source": [
    "json_file = multi_json.replace('new\\\\/port', 'new_port')"
   ]
  },
  {
   "cell_type": "code",
   "execution_count": 12,
   "id": "d2b0c78d-771a-44ed-af36-88a9026eb98a",
   "metadata": {},
   "outputs": [
    {
     "data": {
      "text/plain": [
       "'{\"root\":{\"cus_name\":\"Heather Johnson\",\"cusomer_id\":\"028146e6-edc8-4b4e-8d87-69fc952d4f01\",\"marital_s'"
      ]
     },
     "execution_count": 12,
     "metadata": {},
     "output_type": "execute_result"
    }
   ],
   "source": [
    "json_file[:100]"
   ]
  },
  {
   "cell_type": "code",
   "execution_count": 13,
   "id": "cd16af80-349b-4a08-84c2-d428568fcd60",
   "metadata": {},
   "outputs": [],
   "source": [
    "file = json.dumps(json_file)"
   ]
  },
  {
   "cell_type": "code",
   "execution_count": 14,
   "id": "0ccd10cb-5d6a-4ecc-b3e0-80c895fdf812",
   "metadata": {},
   "outputs": [
    {
     "data": {
      "text/html": [
       "<div>\n",
       "<style scoped>\n",
       "    .dataframe tbody tr th:only-of-type {\n",
       "        vertical-align: middle;\n",
       "    }\n",
       "\n",
       "    .dataframe tbody tr th {\n",
       "        vertical-align: top;\n",
       "    }\n",
       "\n",
       "    .dataframe thead th {\n",
       "        text-align: right;\n",
       "    }\n",
       "</style>\n",
       "<table border=\"1\" class=\"dataframe\">\n",
       "  <thead>\n",
       "    <tr style=\"text-align: right;\">\n",
       "      <th></th>\n",
       "      <th>root</th>\n",
       "      <th>identities</th>\n",
       "      <th>seller</th>\n",
       "      <th>connection</th>\n",
       "      <th>phone</th>\n",
       "      <th>other_phone</th>\n",
       "    </tr>\n",
       "  </thead>\n",
       "  <tbody>\n",
       "    <tr>\n",
       "      <th>0</th>\n",
       "      <td>{'cus_name': 'Heather Johnson', 'cusomer_id': ...</td>\n",
       "      <td>{'SSN': {'number': '106-12-5365'}, 'DL': {'num...</td>\n",
       "      <td>{'name': 'Jamie Scott', 'address': {'home': '5...</td>\n",
       "      <td>{'plan': 'Both', 'type': 'Prepaid'}</td>\n",
       "      <td>{'number': '5034147053569', 'operator': 'P-Mob...</td>\n",
       "      <td>{'number': 2034378496853, 'operator': 'Bird PLC'}</td>\n",
       "    </tr>\n",
       "    <tr>\n",
       "      <th>1</th>\n",
       "      <td>{'cus_name': 'Dustin Romero', 'cusomer_id': 'd...</td>\n",
       "      <td>{'SSN': {'number': '858-81-1906'}, 'DL': {'num...</td>\n",
       "      <td>{'name': 'Kaitlyn Knight', 'address': {'home':...</td>\n",
       "      <td>{'plan': 'Data only', 'type': 'Prepaid'}</td>\n",
       "      <td>{'number': 7613062600667, 'operator': 'P-Mobil...</td>\n",
       "      <td>{'number': 5614253555384, 'operator': 'Bird PLC'}</td>\n",
       "    </tr>\n",
       "    <tr>\n",
       "      <th>2</th>\n",
       "      <td>{'cus_name': 'Keith Rodriguez', 'cusomer_id': ...</td>\n",
       "      <td>{'SSN': {'number': '680-85-8589'}, 'DL': {'num...</td>\n",
       "      <td>{'name': 'Alexandra Blackwell', 'address': {'h...</td>\n",
       "      <td>{'plan': 'Both', 'type': 'Prepaid'}</td>\n",
       "      <td>{'number': '3978831593479', 'operator': 'P-Mob...</td>\n",
       "      <td>{'number': 4353033341134, 'operator': 'Cole-Mo...</td>\n",
       "    </tr>\n",
       "    <tr>\n",
       "      <th>3</th>\n",
       "      <td>{'cus_name': 'Ashley Watson', 'cusomer_id': '2...</td>\n",
       "      <td>{'SSN': {'number': '931-32-1199'}, 'DL': {'num...</td>\n",
       "      <td>{'name': 'Michael Smith', 'address': {'home': ...</td>\n",
       "      <td>{'plan': 'Both', 'type': 'Post-paid'}</td>\n",
       "      <td>{'number': '2359928553481', 'operator': 'P-Mob...</td>\n",
       "      <td>{'number': 8696190152988, 'operator': 'Bird PLC'}</td>\n",
       "    </tr>\n",
       "    <tr>\n",
       "      <th>4</th>\n",
       "      <td>{'cus_name': 'John Simmons', 'cusomer_id': 'a8...</td>\n",
       "      <td>{'SSN': {'number': '191-23-9845'}, 'DL': {'num...</td>\n",
       "      <td>{'name': 'Brianna Jarvis', 'address': {'home':...</td>\n",
       "      <td>{'plan': 'Both', 'type': 'Prepaid'}</td>\n",
       "      <td>{'number': '5427481149458', 'operator': 'P-Mob...</td>\n",
       "      <td>{'number': 1795999414788, 'operator': 'Cole-Mo...</td>\n",
       "    </tr>\n",
       "  </tbody>\n",
       "</table>\n",
       "</div>"
      ],
      "text/plain": [
       "                                                root  \\\n",
       "0  {'cus_name': 'Heather Johnson', 'cusomer_id': ...   \n",
       "1  {'cus_name': 'Dustin Romero', 'cusomer_id': 'd...   \n",
       "2  {'cus_name': 'Keith Rodriguez', 'cusomer_id': ...   \n",
       "3  {'cus_name': 'Ashley Watson', 'cusomer_id': '2...   \n",
       "4  {'cus_name': 'John Simmons', 'cusomer_id': 'a8...   \n",
       "\n",
       "                                          identities  \\\n",
       "0  {'SSN': {'number': '106-12-5365'}, 'DL': {'num...   \n",
       "1  {'SSN': {'number': '858-81-1906'}, 'DL': {'num...   \n",
       "2  {'SSN': {'number': '680-85-8589'}, 'DL': {'num...   \n",
       "3  {'SSN': {'number': '931-32-1199'}, 'DL': {'num...   \n",
       "4  {'SSN': {'number': '191-23-9845'}, 'DL': {'num...   \n",
       "\n",
       "                                              seller  \\\n",
       "0  {'name': 'Jamie Scott', 'address': {'home': '5...   \n",
       "1  {'name': 'Kaitlyn Knight', 'address': {'home':...   \n",
       "2  {'name': 'Alexandra Blackwell', 'address': {'h...   \n",
       "3  {'name': 'Michael Smith', 'address': {'home': ...   \n",
       "4  {'name': 'Brianna Jarvis', 'address': {'home':...   \n",
       "\n",
       "                                 connection  \\\n",
       "0       {'plan': 'Both', 'type': 'Prepaid'}   \n",
       "1  {'plan': 'Data only', 'type': 'Prepaid'}   \n",
       "2       {'plan': 'Both', 'type': 'Prepaid'}   \n",
       "3     {'plan': 'Both', 'type': 'Post-paid'}   \n",
       "4       {'plan': 'Both', 'type': 'Prepaid'}   \n",
       "\n",
       "                                               phone  \\\n",
       "0  {'number': '5034147053569', 'operator': 'P-Mob...   \n",
       "1  {'number': 7613062600667, 'operator': 'P-Mobil...   \n",
       "2  {'number': '3978831593479', 'operator': 'P-Mob...   \n",
       "3  {'number': '2359928553481', 'operator': 'P-Mob...   \n",
       "4  {'number': '5427481149458', 'operator': 'P-Mob...   \n",
       "\n",
       "                                         other_phone  \n",
       "0  {'number': 2034378496853, 'operator': 'Bird PLC'}  \n",
       "1  {'number': 5614253555384, 'operator': 'Bird PLC'}  \n",
       "2  {'number': 4353033341134, 'operator': 'Cole-Mo...  \n",
       "3  {'number': 8696190152988, 'operator': 'Bird PLC'}  \n",
       "4  {'number': 1795999414788, 'operator': 'Cole-Mo...  "
      ]
     },
     "execution_count": 14,
     "metadata": {},
     "output_type": "execute_result"
    }
   ],
   "source": [
    "data.head()"
   ]
  },
  {
   "cell_type": "code",
   "execution_count": 29,
   "id": "bfa15212-5989-4925-b0ab-fce5b43baa08",
   "metadata": {},
   "outputs": [],
   "source": [
    "df = pd.DataFrame()\n",
    "customer_name1 = []\n",
    "customer_id1 = []\n",
    "Gender = []\n",
    "zip_code = []\n",
    "connection_type = []\n",
    "connection_plan = []\n",
    "new_ported = []\n",
    "old_operator = []\n",
    "curr_operator = []\n",
    "phone_number = []\n",
    "contract_date = []\n",
    "SSN = []\n",
    "DL = []"
   ]
  },
  {
   "cell_type": "code",
   "execution_count": 30,
   "id": "0c9e20e2-9a84-4ff6-b997-e06d8931ec2a",
   "metadata": {},
   "outputs": [],
   "source": [
    "for lab, row in data.iterrows():\n",
    "    customer_name1.append(row['root']['cus_name'])\n",
    "    customer_id1.append(row['root']['cusomer_id'])\n",
    "    Gender.append(row['root']['gender'])\n",
    "    connection_type.append(row['connection']['type'])\n",
    "    connection_plan.append(row['connection']['plan'])\n",
    "    zip_code.append(row['identities']['DL']['address']['zip_code'])\n",
    "    new_ported.append(row['phone']['new/port']['ported'])\n",
    "    old_operator.append(row['phone']['new/port']['old_operator'])\n",
    "    phone_number.append(row['phone']['number'])\n",
    "    curr_operator.append(row['phone']['operator'])\n",
    "    contract_date.append(row['phone']['start_date'])\n",
    "    SSN.append(row['identities']['SSN']['number'])\n",
    "    DL.append(row['identities']['DL']['number'])"
   ]
  },
  {
   "cell_type": "code",
   "execution_count": 31,
   "id": "260360fd-abea-4b75-b78a-95b370735002",
   "metadata": {},
   "outputs": [],
   "source": [
    "df['customer_id'] = customer_id1\n",
    "df['customer_name'] = customer_name1\n",
    "df['phone_number'] = phone_number\n",
    "df['zip_code'] = zip_code\n",
    "df['Gender'] = Gender\n",
    "df['connection_type'] = connection_type\n",
    "df['connection_plan'] = connection_plan\n",
    "df['new_ported'] = new_ported\n",
    "df['old_operator'] = old_operator\n",
    "df['curr_operator'] = curr_operator\n",
    "df['contract_date'] = contract_date\n",
    "df['SSN'] = SSN\n",
    "df['DL'] = DL\n",
    "df.replace('nan', np.nan, inplace=True)"
   ]
  },
  {
   "cell_type": "code",
   "execution_count": 34,
   "id": "ef8aa584-c124-4761-8a40-a5c7d7d011d4",
   "metadata": {},
   "outputs": [
    {
     "name": "stdout",
     "output_type": "stream",
     "text": [
      "<class 'pandas.core.frame.DataFrame'>\n",
      "RangeIndex: 45000 entries, 0 to 44999\n",
      "Data columns (total 13 columns):\n",
      " #   Column           Non-Null Count  Dtype \n",
      "---  ------           --------------  ----- \n",
      " 0   customer_id      45000 non-null  object\n",
      " 1   customer_name    45000 non-null  object\n",
      " 2   phone_number     45000 non-null  object\n",
      " 3   zip_code         45000 non-null  object\n",
      " 4   Gender           45000 non-null  object\n",
      " 5   connection_type  45000 non-null  object\n",
      " 6   connection_plan  45000 non-null  object\n",
      " 7   new_ported       45000 non-null  bool  \n",
      " 8   old_operator     8641 non-null   object\n",
      " 9   curr_operator    45000 non-null  object\n",
      " 10  contract_date    45000 non-null  object\n",
      " 11  SSN              45000 non-null  object\n",
      " 12  DL               45000 non-null  object\n",
      "dtypes: bool(1), object(12)\n",
      "memory usage: 4.2+ MB\n"
     ]
    }
   ],
   "source": [
    "df.info()"
   ]
  },
  {
   "cell_type": "code",
   "execution_count": 35,
   "id": "8acf9341-dcf9-4be9-b82c-c3fe6c6bad1a",
   "metadata": {},
   "outputs": [
    {
     "data": {
      "text/html": [
       "<div>\n",
       "<style scoped>\n",
       "    .dataframe tbody tr th:only-of-type {\n",
       "        vertical-align: middle;\n",
       "    }\n",
       "\n",
       "    .dataframe tbody tr th {\n",
       "        vertical-align: top;\n",
       "    }\n",
       "\n",
       "    .dataframe thead th {\n",
       "        text-align: right;\n",
       "    }\n",
       "</style>\n",
       "<table border=\"1\" class=\"dataframe\">\n",
       "  <thead>\n",
       "    <tr style=\"text-align: right;\">\n",
       "      <th></th>\n",
       "      <th>customer_id</th>\n",
       "      <th>customer_name</th>\n",
       "      <th>phone_number</th>\n",
       "      <th>zip_code</th>\n",
       "      <th>Gender</th>\n",
       "      <th>connection_type</th>\n",
       "      <th>connection_plan</th>\n",
       "      <th>new_ported</th>\n",
       "      <th>old_operator</th>\n",
       "      <th>curr_operator</th>\n",
       "      <th>contract_date</th>\n",
       "      <th>SSN</th>\n",
       "      <th>DL</th>\n",
       "    </tr>\n",
       "  </thead>\n",
       "  <tbody>\n",
       "    <tr>\n",
       "      <th>0</th>\n",
       "      <td>028146e6-edc8-4b4e-8d87-69fc952d4f01</td>\n",
       "      <td>Heather Johnson</td>\n",
       "      <td>5034147053569</td>\n",
       "      <td>03217</td>\n",
       "      <td>Female</td>\n",
       "      <td>Prepaid</td>\n",
       "      <td>Both</td>\n",
       "      <td>True</td>\n",
       "      <td>Martinez LLC</td>\n",
       "      <td>P-Mobile</td>\n",
       "      <td>20141122</td>\n",
       "      <td>106-12-5365</td>\n",
       "      <td>UY1814444734234</td>\n",
       "    </tr>\n",
       "    <tr>\n",
       "      <th>1</th>\n",
       "      <td>df6906df-9746-4185-9484-907e27c5d3aa</td>\n",
       "      <td>Dustin Romero</td>\n",
       "      <td>7613062600667</td>\n",
       "      <td>93738</td>\n",
       "      <td>Male</td>\n",
       "      <td>Prepaid</td>\n",
       "      <td>Data only</td>\n",
       "      <td>False</td>\n",
       "      <td>None</td>\n",
       "      <td>P-Mobile</td>\n",
       "      <td>20100428</td>\n",
       "      <td>858-81-1906</td>\n",
       "      <td>ZF2203268944814</td>\n",
       "    </tr>\n",
       "    <tr>\n",
       "      <th>2</th>\n",
       "      <td>625aa620-616e-4dd1-8858-cf3aaad0b177</td>\n",
       "      <td>Keith Rodriguez</td>\n",
       "      <td>3978831593479</td>\n",
       "      <td>10640</td>\n",
       "      <td>Male</td>\n",
       "      <td>Prepaid</td>\n",
       "      <td>Both</td>\n",
       "      <td>False</td>\n",
       "      <td>None</td>\n",
       "      <td>P-Mobile</td>\n",
       "      <td>20120623</td>\n",
       "      <td>680-85-8589</td>\n",
       "      <td>CK7472158497751</td>\n",
       "    </tr>\n",
       "    <tr>\n",
       "      <th>3</th>\n",
       "      <td>20d5cd7f-f608-4405-be4b-1d89926140b3</td>\n",
       "      <td>Ashley Watson</td>\n",
       "      <td>2359928553481</td>\n",
       "      <td>49907</td>\n",
       "      <td>Female</td>\n",
       "      <td>Post-paid</td>\n",
       "      <td>Both</td>\n",
       "      <td>False</td>\n",
       "      <td>None</td>\n",
       "      <td>P-Mobile</td>\n",
       "      <td>20110112</td>\n",
       "      <td>931-32-1199</td>\n",
       "      <td>OG3259936936767</td>\n",
       "    </tr>\n",
       "    <tr>\n",
       "      <th>4</th>\n",
       "      <td>a8118489-9d3b-4fcf-a538-985b4281d557</td>\n",
       "      <td>John Simmons</td>\n",
       "      <td>5427481149458</td>\n",
       "      <td>45010</td>\n",
       "      <td>Female</td>\n",
       "      <td>Prepaid</td>\n",
       "      <td>Both</td>\n",
       "      <td>False</td>\n",
       "      <td>None</td>\n",
       "      <td>P-Mobile</td>\n",
       "      <td>20101211</td>\n",
       "      <td>191-23-9845</td>\n",
       "      <td>QC7384771847743</td>\n",
       "    </tr>\n",
       "  </tbody>\n",
       "</table>\n",
       "</div>"
      ],
      "text/plain": [
       "                            customer_id    customer_name   phone_number  \\\n",
       "0  028146e6-edc8-4b4e-8d87-69fc952d4f01  Heather Johnson  5034147053569   \n",
       "1  df6906df-9746-4185-9484-907e27c5d3aa    Dustin Romero  7613062600667   \n",
       "2  625aa620-616e-4dd1-8858-cf3aaad0b177  Keith Rodriguez  3978831593479   \n",
       "3  20d5cd7f-f608-4405-be4b-1d89926140b3    Ashley Watson  2359928553481   \n",
       "4  a8118489-9d3b-4fcf-a538-985b4281d557     John Simmons  5427481149458   \n",
       "\n",
       "  zip_code  Gender connection_type connection_plan  new_ported  old_operator  \\\n",
       "0    03217  Female         Prepaid            Both        True  Martinez LLC   \n",
       "1    93738    Male         Prepaid       Data only       False          None   \n",
       "2    10640    Male         Prepaid            Both       False          None   \n",
       "3    49907  Female       Post-paid            Both       False          None   \n",
       "4    45010  Female         Prepaid            Both       False          None   \n",
       "\n",
       "  curr_operator contract_date          SSN               DL  \n",
       "0      P-Mobile      20141122  106-12-5365  UY1814444734234  \n",
       "1      P-Mobile      20100428  858-81-1906  ZF2203268944814  \n",
       "2      P-Mobile      20120623  680-85-8589  CK7472158497751  \n",
       "3      P-Mobile      20110112  931-32-1199  OG3259936936767  \n",
       "4      P-Mobile      20101211  191-23-9845  QC7384771847743  "
      ]
     },
     "execution_count": 35,
     "metadata": {},
     "output_type": "execute_result"
    }
   ],
   "source": [
    "df.head()\n",
    "#df.info()"
   ]
  },
  {
   "cell_type": "markdown",
   "id": "a471b73d",
   "metadata": {},
   "source": [
    "## Removing PII using Hashing"
   ]
  },
  {
   "cell_type": "code",
   "execution_count": 38,
   "id": "2b6e1341-5351-4ac2-ac61-348bc9acdb98",
   "metadata": {},
   "outputs": [],
   "source": [
    "df['SSN_hashed'] = df['SSN'].apply(lambda x: hashlib.sha256(x.encode()).hexdigest())"
   ]
  },
  {
   "cell_type": "code",
   "execution_count": 39,
   "id": "17334e18-5b62-4774-b948-d21278900e01",
   "metadata": {},
   "outputs": [],
   "source": [
    "df['DL_hashed'] = df['DL'].apply(lambda x: hashlib.sha256(x.encode()).hexdigest())"
   ]
  },
  {
   "cell_type": "code",
   "execution_count": 41,
   "id": "300d86a9-a1e1-4a70-890d-071cb885151e",
   "metadata": {},
   "outputs": [],
   "source": [
    "df.drop(['SSN', 'DL'], axis = 1, inplace = True)"
   ]
  },
  {
   "cell_type": "code",
   "execution_count": 42,
   "id": "59e80307-6e73-4e6e-af23-4ee69c2747b6",
   "metadata": {},
   "outputs": [
    {
     "data": {
      "text/html": [
       "<div>\n",
       "<style scoped>\n",
       "    .dataframe tbody tr th:only-of-type {\n",
       "        vertical-align: middle;\n",
       "    }\n",
       "\n",
       "    .dataframe tbody tr th {\n",
       "        vertical-align: top;\n",
       "    }\n",
       "\n",
       "    .dataframe thead th {\n",
       "        text-align: right;\n",
       "    }\n",
       "</style>\n",
       "<table border=\"1\" class=\"dataframe\">\n",
       "  <thead>\n",
       "    <tr style=\"text-align: right;\">\n",
       "      <th></th>\n",
       "      <th>customer_id</th>\n",
       "      <th>customer_name</th>\n",
       "      <th>phone_number</th>\n",
       "      <th>zip_code</th>\n",
       "      <th>Gender</th>\n",
       "      <th>connection_type</th>\n",
       "      <th>connection_plan</th>\n",
       "      <th>new_ported</th>\n",
       "      <th>old_operator</th>\n",
       "      <th>curr_operator</th>\n",
       "      <th>contract_date</th>\n",
       "      <th>SSN_hashed</th>\n",
       "      <th>DL_hashed</th>\n",
       "    </tr>\n",
       "  </thead>\n",
       "  <tbody>\n",
       "    <tr>\n",
       "      <th>0</th>\n",
       "      <td>028146e6-edc8-4b4e-8d87-69fc952d4f01</td>\n",
       "      <td>Heather Johnson</td>\n",
       "      <td>5034147053569</td>\n",
       "      <td>03217</td>\n",
       "      <td>Female</td>\n",
       "      <td>Prepaid</td>\n",
       "      <td>Both</td>\n",
       "      <td>True</td>\n",
       "      <td>Martinez LLC</td>\n",
       "      <td>P-Mobile</td>\n",
       "      <td>20141122</td>\n",
       "      <td>4972586b084d7e8b8b8c68d0de8ff502e8506f6e6d1ba3...</td>\n",
       "      <td>63a1032f3b6fdcdeba0bab124c87935145305a40cd9c1e...</td>\n",
       "    </tr>\n",
       "    <tr>\n",
       "      <th>1</th>\n",
       "      <td>df6906df-9746-4185-9484-907e27c5d3aa</td>\n",
       "      <td>Dustin Romero</td>\n",
       "      <td>7613062600667</td>\n",
       "      <td>93738</td>\n",
       "      <td>Male</td>\n",
       "      <td>Prepaid</td>\n",
       "      <td>Data only</td>\n",
       "      <td>False</td>\n",
       "      <td>None</td>\n",
       "      <td>P-Mobile</td>\n",
       "      <td>20100428</td>\n",
       "      <td>ea5578e23543aa8ad343137af02b061a6819679b9a4f3c...</td>\n",
       "      <td>f9ed78fe9efd9617b478128bc5538a4ee76b6b539c3b0d...</td>\n",
       "    </tr>\n",
       "    <tr>\n",
       "      <th>2</th>\n",
       "      <td>625aa620-616e-4dd1-8858-cf3aaad0b177</td>\n",
       "      <td>Keith Rodriguez</td>\n",
       "      <td>3978831593479</td>\n",
       "      <td>10640</td>\n",
       "      <td>Male</td>\n",
       "      <td>Prepaid</td>\n",
       "      <td>Both</td>\n",
       "      <td>False</td>\n",
       "      <td>None</td>\n",
       "      <td>P-Mobile</td>\n",
       "      <td>20120623</td>\n",
       "      <td>040d31cd1e7a03787912a2dec29516fa02c8293e230937...</td>\n",
       "      <td>3a33724ad999c62d7099bd990373c019c1c6cc7d10c164...</td>\n",
       "    </tr>\n",
       "    <tr>\n",
       "      <th>3</th>\n",
       "      <td>20d5cd7f-f608-4405-be4b-1d89926140b3</td>\n",
       "      <td>Ashley Watson</td>\n",
       "      <td>2359928553481</td>\n",
       "      <td>49907</td>\n",
       "      <td>Female</td>\n",
       "      <td>Post-paid</td>\n",
       "      <td>Both</td>\n",
       "      <td>False</td>\n",
       "      <td>None</td>\n",
       "      <td>P-Mobile</td>\n",
       "      <td>20110112</td>\n",
       "      <td>7a21b024ece083e2159defe8244e9754d0233b16f246c6...</td>\n",
       "      <td>e54b320bcee43ef7ed591c0c72e19bc268011af80120d6...</td>\n",
       "    </tr>\n",
       "    <tr>\n",
       "      <th>4</th>\n",
       "      <td>a8118489-9d3b-4fcf-a538-985b4281d557</td>\n",
       "      <td>John Simmons</td>\n",
       "      <td>5427481149458</td>\n",
       "      <td>45010</td>\n",
       "      <td>Female</td>\n",
       "      <td>Prepaid</td>\n",
       "      <td>Both</td>\n",
       "      <td>False</td>\n",
       "      <td>None</td>\n",
       "      <td>P-Mobile</td>\n",
       "      <td>20101211</td>\n",
       "      <td>3a888ce0bb95e46fa443aaf48c9142dbf92446f483be69...</td>\n",
       "      <td>e68abeffce8b6183ad24f8e6249c5f86214764a530ab6f...</td>\n",
       "    </tr>\n",
       "  </tbody>\n",
       "</table>\n",
       "</div>"
      ],
      "text/plain": [
       "                            customer_id    customer_name   phone_number  \\\n",
       "0  028146e6-edc8-4b4e-8d87-69fc952d4f01  Heather Johnson  5034147053569   \n",
       "1  df6906df-9746-4185-9484-907e27c5d3aa    Dustin Romero  7613062600667   \n",
       "2  625aa620-616e-4dd1-8858-cf3aaad0b177  Keith Rodriguez  3978831593479   \n",
       "3  20d5cd7f-f608-4405-be4b-1d89926140b3    Ashley Watson  2359928553481   \n",
       "4  a8118489-9d3b-4fcf-a538-985b4281d557     John Simmons  5427481149458   \n",
       "\n",
       "  zip_code  Gender connection_type connection_plan  new_ported  old_operator  \\\n",
       "0    03217  Female         Prepaid            Both        True  Martinez LLC   \n",
       "1    93738    Male         Prepaid       Data only       False          None   \n",
       "2    10640    Male         Prepaid            Both       False          None   \n",
       "3    49907  Female       Post-paid            Both       False          None   \n",
       "4    45010  Female         Prepaid            Both       False          None   \n",
       "\n",
       "  curr_operator contract_date  \\\n",
       "0      P-Mobile      20141122   \n",
       "1      P-Mobile      20100428   \n",
       "2      P-Mobile      20120623   \n",
       "3      P-Mobile      20110112   \n",
       "4      P-Mobile      20101211   \n",
       "\n",
       "                                          SSN_hashed  \\\n",
       "0  4972586b084d7e8b8b8c68d0de8ff502e8506f6e6d1ba3...   \n",
       "1  ea5578e23543aa8ad343137af02b061a6819679b9a4f3c...   \n",
       "2  040d31cd1e7a03787912a2dec29516fa02c8293e230937...   \n",
       "3  7a21b024ece083e2159defe8244e9754d0233b16f246c6...   \n",
       "4  3a888ce0bb95e46fa443aaf48c9142dbf92446f483be69...   \n",
       "\n",
       "                                           DL_hashed  \n",
       "0  63a1032f3b6fdcdeba0bab124c87935145305a40cd9c1e...  \n",
       "1  f9ed78fe9efd9617b478128bc5538a4ee76b6b539c3b0d...  \n",
       "2  3a33724ad999c62d7099bd990373c019c1c6cc7d10c164...  \n",
       "3  e54b320bcee43ef7ed591c0c72e19bc268011af80120d6...  \n",
       "4  e68abeffce8b6183ad24f8e6249c5f86214764a530ab6f...  "
      ]
     },
     "execution_count": 42,
     "metadata": {},
     "output_type": "execute_result"
    }
   ],
   "source": [
    "df.head()"
   ]
  },
  {
   "cell_type": "markdown",
   "id": "81809602",
   "metadata": {},
   "source": [
    "## Loading Data to BigQuery"
   ]
  },
  {
   "cell_type": "code",
   "execution_count": 147,
   "id": "6409d859-7b39-4552-afc3-a360dc164bac",
   "metadata": {},
   "outputs": [
    {
     "name": "stderr",
     "output_type": "stream",
     "text": [
      "1it [00:07,  7.27s/it]\n"
     ]
    }
   ],
   "source": [
    "df.to_gbq('test1.test_customer_data',  project_id='acn-in-cf-data-ggl-aca-c01-t04', if_exists='replace')"
   ]
  },
  {
   "cell_type": "code",
   "execution_count": 149,
   "id": "985c6b48-e4c9-4fbd-b094-dfd937725667",
   "metadata": {},
   "outputs": [
    {
     "data": {
      "text/plain": [
       "Gardner Inc     2203\n",
       "Cole-Moreno     2196\n",
       "Bird PLC        2157\n",
       "Martinez LLC    2085\n",
       "Name: old_operator, dtype: int64"
      ]
     },
     "execution_count": 149,
     "metadata": {},
     "output_type": "execute_result"
    }
   ],
   "source": [
    "df['old_operator'].value_counts()"
   ]
  }
 ],
 "metadata": {
  "environment": {
   "name": "common-cpu.m80",
   "type": "gcloud",
   "uri": "gcr.io/deeplearning-platform-release/base-cpu:m80"
  },
  "kernelspec": {
   "display_name": "Python 3",
   "language": "python",
   "name": "python3"
  },
  "language_info": {
   "codemirror_mode": {
    "name": "ipython",
    "version": 3
   },
   "file_extension": ".py",
   "mimetype": "text/x-python",
   "name": "python",
   "nbconvert_exporter": "python",
   "pygments_lexer": "ipython3",
   "version": "3.7.10"
  }
 },
 "nbformat": 4,
 "nbformat_minor": 5
}
