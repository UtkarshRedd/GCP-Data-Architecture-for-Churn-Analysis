{
 "cells": [
  {
   "cell_type": "markdown",
   "id": "c73ff345",
   "metadata": {
    "slideshow": {
     "slide_type": "slide"
    }
   },
   "source": [
    "<h1>Importing Libraries</h1>"
   ]
  },
  {
   "cell_type": "code",
   "execution_count": 1,
   "id": "37cb902d-2a2d-40ba-bcf7-d919ff33c9b0",
   "metadata": {
    "slideshow": {
     "slide_type": "fragment"
    },
    "tags": []
   },
   "outputs": [],
   "source": [
    "import pandas as pd\n",
    "import json\n",
    "import numpy as np\n",
    "from google.cloud import bigquery\n",
    "import hashlib"
   ]
  },
  {
   "cell_type": "markdown",
   "id": "a57e0a53-32c7-4a0d-b618-078978129f84",
   "metadata": {
    "slideshow": {
     "slide_type": "subslide"
    }
   },
   "source": [
    "<strong>Requirements.txt</strong> <br>\n",
    "pandas <br>\n",
    "numpy <br>\n",
    "google-cloud-bigquery <br>\n",
    "fsspec <br>\n",
    "gcsfs <br>\n",
    "pyarrow <br>\n",
    "pandas-gbq <br>"
   ]
  },
  {
   "cell_type": "markdown",
   "id": "b9e9d3d9",
   "metadata": {
    "slideshow": {
     "slide_type": "slide"
    }
   },
   "source": [
    "<h1>Event Trigger function in Cloud Functions</h1>"
   ]
  },
  {
   "cell_type": "code",
   "execution_count": null,
   "id": "10f85685",
   "metadata": {
    "slideshow": {
     "slide_type": "fragment"
    }
   },
   "outputs": [],
   "source": [
    "def hello_gcs(event, context):\n",
    "    \"\"\"Triggered by a change to a Cloud Storage bucket.\n",
    "    Args:\n",
    "    event (dict): Event payload.\n",
    "    context (google.cloud.functions.Context): Metadata for the event.\n",
    "    \"\"\"\n",
    "    file = event\n",
    "    #print(f\"Processing file: {file['name']}.\")\n",
    "    path = file['name']\n",
    "    INPUT_PATH = f\"gs://{file['bucket']}/{path}\"\n",
    "    print(INPUT_PATH)\n",
    "    #return INPUT_PATH\n",
    "    if ('customer' in INPUT_PATH):\n",
    "        OUTPUT_PATH = 'acn-in-cf-data-ggl-aca-c01-t04.test1.func_scale_customer_test1'\n",
    "        return ingest_customer_data(INPUT_PATH, OUTPUT_PATH)\n",
    "    elif ('CDR' in INPUT_PATH):\n",
    "        OUTPUT_PATH = 'acn-in-cf-data-ggl-aca-c01-t04.test1.func_scale_CDR_test1'\n",
    "        return ingest_CDR_data(INPUT_PATH, OUTPUT_PATH)\n",
    "    elif ('internet' in INPUT_PATH):\n",
    "        OUTPUT_PATH = 'acn-in-cf-data-ggl-aca-c01-t04.test1.func_scale_internet_test1'\n",
    "        return ingest_internet_data(INPUT_PATH, OUTPUT_PATH)\n",
    "    elif ('transaction' in INPUT_PATH):\n",
    "        OUTPUT_PATH = 'acn-in-cf-data-ggl-aca-c01-t04.test1.func_scale_trans_test1'\n",
    "        return ingest_trans_data(INPUT_PATH, OUTPUT_PATH)\n",
    "    else:\n",
    "        return 'ERROR'\n",
    "    return 'SUCCESS'\n"
   ]
  },
  {
   "cell_type": "markdown",
   "id": "4a2e0d58",
   "metadata": {
    "slideshow": {
     "slide_type": "slide"
    }
   },
   "source": [
    "<h1>Function for Customer Data Ingestion</h1>"
   ]
  },
  {
   "cell_type": "code",
   "execution_count": null,
   "id": "6128540e",
   "metadata": {
    "slideshow": {
     "slide_type": "fragment"
    }
   },
   "outputs": [],
   "source": [
    "def ingest_customer_data(INPUT_PATH, OUTPUT_PATH):\n",
    "    data = pd.read_json(INPUT_PATH, lines=True)\n",
    "    df = pd.DataFrame()\n",
    "    customer_name1 = []\n",
    "    customer_id1 = []\n",
    "    Gender = []\n",
    "    zip_code = []\n",
    "    connection_type = []\n",
    "    connection_plan = []\n",
    "    new_ported = []\n",
    "    old_operator = []\n",
    "    curr_operator = []\n",
    "    phone_number = []\n",
    "    contract_date = []\n",
    "    SSN = []\n",
    "    DL = []\n",
    "    for lab, row in data.iterrows():\n",
    "        customer_name1.append(row['root']['cus_name'])\n",
    "        customer_id1.append(row['root']['cusomer_id'])\n",
    "        Gender.append(row['root']['gender'])\n",
    "        connection_type.append(row['connection']['type'])\n",
    "        connection_plan.append(row['connection']['plan'])\n",
    "        zip_code.append(row['identities']['DL']['address']['zip_code'])\n",
    "        new_ported.append(row['phone']['new/port']['ported'])\n",
    "        old_operator.append(row['phone']['new/port']['old_operator'])\n",
    "        phone_number.append(row['phone']['number'])\n",
    "        curr_operator.append(row['phone']['operator'])\n",
    "        contract_date.append(row['phone']['start_date'])\n",
    "        SSN.append(row['identities']['SSN']['number'])\n",
    "        DL.append(row['identities']['DL']['number'])\n",
    "   "
   ]
  },
  {
   "cell_type": "code",
   "execution_count": 2,
   "id": "0745547c",
   "metadata": {},
   "outputs": [],
   "source": [
    "data = pd.read_json(\"gs://in-telecom-t4/Telecom/customer_data.json\", lines=True)"
   ]
  },
  {
   "cell_type": "code",
   "execution_count": 3,
   "id": "47938517-d15c-4272-970c-0a688fba1dbf",
   "metadata": {},
   "outputs": [
    {
     "data": {
      "text/html": [
       "<div>\n",
       "<style scoped>\n",
       "    .dataframe tbody tr th:only-of-type {\n",
       "        vertical-align: middle;\n",
       "    }\n",
       "\n",
       "    .dataframe tbody tr th {\n",
       "        vertical-align: top;\n",
       "    }\n",
       "\n",
       "    .dataframe thead th {\n",
       "        text-align: right;\n",
       "    }\n",
       "</style>\n",
       "<table border=\"1\" class=\"dataframe\">\n",
       "  <thead>\n",
       "    <tr style=\"text-align: right;\">\n",
       "      <th></th>\n",
       "      <th>root</th>\n",
       "      <th>identities</th>\n",
       "      <th>seller</th>\n",
       "      <th>connection</th>\n",
       "      <th>phone</th>\n",
       "      <th>other_phone</th>\n",
       "    </tr>\n",
       "  </thead>\n",
       "  <tbody>\n",
       "    <tr>\n",
       "      <th>0</th>\n",
       "      <td>{'cus_name': 'Heather Johnson', 'cusomer_id': ...</td>\n",
       "      <td>{'SSN': {'number': '106-12-5365'}, 'DL': {'num...</td>\n",
       "      <td>{'name': 'Jamie Scott', 'address': {'home': '5...</td>\n",
       "      <td>{'plan': 'Both', 'type': 'Prepaid'}</td>\n",
       "      <td>{'number': '5034147053569', 'operator': 'P-Mob...</td>\n",
       "      <td>{'number': 2034378496853, 'operator': 'Bird PLC'}</td>\n",
       "    </tr>\n",
       "    <tr>\n",
       "      <th>1</th>\n",
       "      <td>{'cus_name': 'Dustin Romero', 'cusomer_id': 'd...</td>\n",
       "      <td>{'SSN': {'number': '858-81-1906'}, 'DL': {'num...</td>\n",
       "      <td>{'name': 'Kaitlyn Knight', 'address': {'home':...</td>\n",
       "      <td>{'plan': 'Data only', 'type': 'Prepaid'}</td>\n",
       "      <td>{'number': 7613062600667, 'operator': 'P-Mobil...</td>\n",
       "      <td>{'number': 5614253555384, 'operator': 'Bird PLC'}</td>\n",
       "    </tr>\n",
       "    <tr>\n",
       "      <th>2</th>\n",
       "      <td>{'cus_name': 'Keith Rodriguez', 'cusomer_id': ...</td>\n",
       "      <td>{'SSN': {'number': '680-85-8589'}, 'DL': {'num...</td>\n",
       "      <td>{'name': 'Alexandra Blackwell', 'address': {'h...</td>\n",
       "      <td>{'plan': 'Both', 'type': 'Prepaid'}</td>\n",
       "      <td>{'number': '3978831593479', 'operator': 'P-Mob...</td>\n",
       "      <td>{'number': 4353033341134, 'operator': 'Cole-Mo...</td>\n",
       "    </tr>\n",
       "    <tr>\n",
       "      <th>3</th>\n",
       "      <td>{'cus_name': 'Ashley Watson', 'cusomer_id': '2...</td>\n",
       "      <td>{'SSN': {'number': '931-32-1199'}, 'DL': {'num...</td>\n",
       "      <td>{'name': 'Michael Smith', 'address': {'home': ...</td>\n",
       "      <td>{'plan': 'Both', 'type': 'Post-paid'}</td>\n",
       "      <td>{'number': '2359928553481', 'operator': 'P-Mob...</td>\n",
       "      <td>{'number': 8696190152988, 'operator': 'Bird PLC'}</td>\n",
       "    </tr>\n",
       "    <tr>\n",
       "      <th>4</th>\n",
       "      <td>{'cus_name': 'John Simmons', 'cusomer_id': 'a8...</td>\n",
       "      <td>{'SSN': {'number': '191-23-9845'}, 'DL': {'num...</td>\n",
       "      <td>{'name': 'Brianna Jarvis', 'address': {'home':...</td>\n",
       "      <td>{'plan': 'Both', 'type': 'Prepaid'}</td>\n",
       "      <td>{'number': '5427481149458', 'operator': 'P-Mob...</td>\n",
       "      <td>{'number': 1795999414788, 'operator': 'Cole-Mo...</td>\n",
       "    </tr>\n",
       "  </tbody>\n",
       "</table>\n",
       "</div>"
      ],
      "text/plain": [
       "                                                root  \\\n",
       "0  {'cus_name': 'Heather Johnson', 'cusomer_id': ...   \n",
       "1  {'cus_name': 'Dustin Romero', 'cusomer_id': 'd...   \n",
       "2  {'cus_name': 'Keith Rodriguez', 'cusomer_id': ...   \n",
       "3  {'cus_name': 'Ashley Watson', 'cusomer_id': '2...   \n",
       "4  {'cus_name': 'John Simmons', 'cusomer_id': 'a8...   \n",
       "\n",
       "                                          identities  \\\n",
       "0  {'SSN': {'number': '106-12-5365'}, 'DL': {'num...   \n",
       "1  {'SSN': {'number': '858-81-1906'}, 'DL': {'num...   \n",
       "2  {'SSN': {'number': '680-85-8589'}, 'DL': {'num...   \n",
       "3  {'SSN': {'number': '931-32-1199'}, 'DL': {'num...   \n",
       "4  {'SSN': {'number': '191-23-9845'}, 'DL': {'num...   \n",
       "\n",
       "                                              seller  \\\n",
       "0  {'name': 'Jamie Scott', 'address': {'home': '5...   \n",
       "1  {'name': 'Kaitlyn Knight', 'address': {'home':...   \n",
       "2  {'name': 'Alexandra Blackwell', 'address': {'h...   \n",
       "3  {'name': 'Michael Smith', 'address': {'home': ...   \n",
       "4  {'name': 'Brianna Jarvis', 'address': {'home':...   \n",
       "\n",
       "                                 connection  \\\n",
       "0       {'plan': 'Both', 'type': 'Prepaid'}   \n",
       "1  {'plan': 'Data only', 'type': 'Prepaid'}   \n",
       "2       {'plan': 'Both', 'type': 'Prepaid'}   \n",
       "3     {'plan': 'Both', 'type': 'Post-paid'}   \n",
       "4       {'plan': 'Both', 'type': 'Prepaid'}   \n",
       "\n",
       "                                               phone  \\\n",
       "0  {'number': '5034147053569', 'operator': 'P-Mob...   \n",
       "1  {'number': 7613062600667, 'operator': 'P-Mobil...   \n",
       "2  {'number': '3978831593479', 'operator': 'P-Mob...   \n",
       "3  {'number': '2359928553481', 'operator': 'P-Mob...   \n",
       "4  {'number': '5427481149458', 'operator': 'P-Mob...   \n",
       "\n",
       "                                         other_phone  \n",
       "0  {'number': 2034378496853, 'operator': 'Bird PLC'}  \n",
       "1  {'number': 5614253555384, 'operator': 'Bird PLC'}  \n",
       "2  {'number': 4353033341134, 'operator': 'Cole-Mo...  \n",
       "3  {'number': 8696190152988, 'operator': 'Bird PLC'}  \n",
       "4  {'number': 1795999414788, 'operator': 'Cole-Mo...  "
      ]
     },
     "execution_count": 3,
     "metadata": {},
     "output_type": "execute_result"
    }
   ],
   "source": [
    "data.head()"
   ]
  },
  {
   "cell_type": "code",
   "execution_count": 4,
   "id": "169f6e8b-e762-438f-8815-5584bf10ecc4",
   "metadata": {},
   "outputs": [
    {
     "name": "stdout",
     "output_type": "stream",
     "text": [
      "{'cus_name': 'Heather Johnson', 'cusomer_id': '028146e6-edc8-4b4e-8d87-69fc952d4f01', 'marital_status': 'Married', 'gender': 'Female', 'DOB': '19840105', 'occupation': 'Information Technology', 'address': {'cus_home': 'Unit 5824 Box 8279', 'cus_city': 'DPO AE 03217', 'cus_zipcode': '03217', 'cus_state': 'AE'}}\n",
      "{'SSN': {'number': '106-12-5365'}, 'DL': {'number': 'UY1814444734234', 'address': {'home': 'Unit 5824 Box 8279', 'city': 'DPO AE 03217', 'state': 'AE', 'zip_code': '03217'}}}\n",
      "{'name': 'Jamie Scott', 'address': {'home': '51348 Baker Glens', 'city': 'Lake Deborahchester', 'state': 'TN', 'zipcode': '61108'}}\n",
      "{'plan': 'Both', 'type': 'Prepaid'}\n",
      "{'number': '5034147053569', 'operator': 'P-Mobile', 'start_date': '20141122', 'new/port': {'ported': True, 'old_operator': 'Martinez LLC'}}\n",
      "{'number': 2034378496853, 'operator': 'Bird PLC'}\n"
     ]
    }
   ],
   "source": [
    "for cols in data.columns:\n",
    "    print(data[cols][0])"
   ]
  },
  {
   "cell_type": "code",
   "execution_count": null,
   "id": "714cbb79",
   "metadata": {
    "slideshow": {
     "slide_type": "subslide"
    }
   },
   "outputs": [],
   "source": [
    "def mask(df, OUTPUT_PATH):   \n",
    "   df['customer_id'] = customer_id1\n",
    "   df['customer_name'] = customer_name1\n",
    "   df['phone_number'] = phone_number\n",
    "   df['zip_code'] = zip_code\n",
    "   df['Gender'] = Gender\n",
    "   df['connection_type'] = connection_type\n",
    "   df['connection_plan'] = connection_plan\n",
    "   df['new_ported'] = new_ported\n",
    "   df['old_operator'] = old_operator\n",
    "   df['curr_operator'] = curr_operator\n",
    "   df['contract_date'] = contract_date\n",
    "   df['SSN'] = SSN\n",
    "   df['DL'] = DL\n",
    "   df['SSN_hashed'] = df['SSN'].apply(lambda x: hashlib.sha256(x.encode()).hexdigest())\n",
    "   df['DL_hashed'] = df['DL'].apply(lambda x: hashlib.sha256(x.encode()).hexdigest())\n",
    "   df.drop(['SSN', 'DL'], axis = 1, inplace = True)\n",
    "   df.to_gbq(OUTPUT_PATH,  project_id='acn-in-cf-data-ggl-aca-c01-t04', if_exists='replace')\n",
    "   #to_bq(df, OUTPUT_PATH)\n",
    "   return \"SUCCESS customer data\""
   ]
  },
  {
   "cell_type": "markdown",
   "id": "b8eb0eb1",
   "metadata": {
    "slideshow": {
     "slide_type": "subslide"
    }
   },
   "source": [
    "<h2>Key Points about this function</h2>\n",
    "<ul>\n",
    "    <li><strong>Masking the data: </strong>PII data present here is SSN (Social Security Number) number and DL number. Using the <i>hashlib</i> inbuilt python library. This uses <U><B>SHA (Secure Hashing Algorithms)</B></U> which are a set of cryptographic hash functions. <br>\n",
    "        The PII data has been masked using <b><u>sha25</u></b> hashing algorithm, which is a part of hashlib library. <b><u>encode()</u></b> encodes the given string to UTF-8. <b><u>hexdigest()</u></b> returns the encoded data in a hexadecimal string format. </li>\n",
    "    <li><strong>Ingesting data: </strong>Using pandas-gbq package's df.to_gb1() function for this purpose</li>"
   ]
  },
  {
   "cell_type": "markdown",
   "id": "298b560f",
   "metadata": {
    "slideshow": {
     "slide_type": "slide"
    }
   },
   "source": [
    "<h1>Function for CDR Data Ingestion</h1>"
   ]
  },
  {
   "cell_type": "code",
   "execution_count": null,
   "id": "5bdfb525",
   "metadata": {
    "slideshow": {
     "slide_type": "fragment"
    }
   },
   "outputs": [],
   "source": [
    "def ingest_CDR_data(INPUT_PATH, OUTPUT_PATH):\n",
    "    data = pd.read_json(INPUT_PATH, lines=True)\n",
    "    source_no = []\n",
    "    dest_no = []\n",
    "    start_time = []\n",
    "    duration = []\n",
    "    source_operator = []\n",
    "    dest_operator = []\n",
    "    source_location = []\n",
    "    dest_location = []\n",
    "    disposition = []\n",
    "    for lab, row in data.iterrows():\n",
    "        source_no.append(row['source']['msisdn'])\n",
    "        dest_no.append(row['destination']['msisdn'])\n",
    "        start_time.append(row['root']['start_time'])\n",
    "        duration.append(float(row['root']['duration']))\n",
    "        source_operator.append(row['source']['operator'])\n",
    "        dest_operator.append(row['destination']['operator'])\n",
    "        source_location.append(row['source']['location'])\n",
    "        dest_location.append(row['destination']['location'])\n",
    "        disposition.append(row['root']['disposition'])\n",
    "    df = pd.DataFrame()\n",
    "    df['source_no'] = source_no\n",
    "    df['dest_no'] = dest_no\n",
    "    df['start_time1'] = start_time\n",
    "    df['start_time'] = pd.to_datetime(df['start_time1'])\n",
    "    df.drop('start_time1', axis = 1, inplace = True)\n",
    "    df['duration'] = duration\n",
    "    df['source_operator'] = source_operator\n",
    "    df['dest_operator'] = dest_operator\n",
    "    df['source_location'] = source_location\n",
    "    df['dest_location'] = dest_location\n",
    "    df['disposition'] = disposition\n",
    "    df.replace('nan', np.nan, inplace=True)\n",
    "    #df.to_gbq(OUTPUT_PATH,  project_id='acn-in-cf-data-ggl-aca-c01-t04', if_exists='append')\n",
    "    to_bq(df, OUTPUT_PATH)\n",
    "    return \"SUCCESS CDR data\""
   ]
  },
  {
   "cell_type": "markdown",
   "id": "47474092",
   "metadata": {
    "slideshow": {
     "slide_type": "slide"
    }
   },
   "source": [
    "<h1>Function for Internet Data Ingestion</h1>"
   ]
  },
  {
   "cell_type": "code",
   "execution_count": 1,
   "id": "0eadcad2-182e-4be4-96f1-6f514508db62",
   "metadata": {
    "slideshow": {
     "slide_type": "fragment"
    }
   },
   "outputs": [],
   "source": [
    "def ingest_internet_data(INPUT_PATH, OUTPUT_PATH):\n",
    "    data = pd.read_json(INPUT_PATH, lines=True)\n",
    "    phone_no = []\n",
    "    source_IP = []\n",
    "    dest_IP = []\n",
    "    start_time = []\n",
    "    source_port = []\n",
    "    dest_port = []\n",
    "    ASN = []\n",
    "    no_of_packets = []\n",
    "    no_of_bytes = []\n",
    "    for lab, row in data.iterrows():\n",
    "        phone_no.append(row['root']['phone_number'])\n",
    "        source_IP.append(row['source']['ip'])\n",
    "        dest_IP.append(row['destination']['ip'])\n",
    "        start_time.append(row['root']['time'])\n",
    "        source_port.append(row['source']['port'])\n",
    "        dest_port.append(row['destination']['port'])\n",
    "        ASN.append(row['root']['asn'])\n",
    "        no_of_packets.append(float(row['root']['num_packets']))\n",
    "        no_of_bytes.append(float(row['root']['num_bytes']))\n",
    "    df = pd.DataFrame()\n",
    "    df['phone_no'] = phone_no\n",
    "    df['source_IP'] = source_IP\n",
    "    df['dest_IP'] = dest_IP\n",
    "    df['start_time1'] = start_time\n",
    "    df['start_time'] = pd.to_datetime(df['start_time1'])\n",
    "    df.drop('start_time1', axis = 1, inplace = True)\n",
    "    df['source_port'] = source_port\n",
    "    df['dest_port'] = dest_port\n",
    "    df['ASN'] = ASN\n",
    "    df['no_of_packets'] = no_of_packets\n",
    "    df['no_of_bytes'] = no_of_bytes\n",
    "    df.replace('nan', np.nan, inplace=True)\n",
    "    #df.to_gbq(OUTPUT_PATH,  project_id='acn-in-cf-data-ggl-aca-c01-t04', if_exists='append')\n",
    "    to_bq(df, OUTPUT_PATH)\n",
    "    return \"SUCCESS internet data\""
   ]
  },
  {
   "cell_type": "markdown",
   "id": "a2bd120f",
   "metadata": {
    "slideshow": {
     "slide_type": "slide"
    }
   },
   "source": [
    "<h1>Call for Testing the function</h1>"
   ]
  },
  {
   "cell_type": "code",
   "execution_count": 63,
   "id": "e7f930e4-5f2c-4756-93a9-d79283e51cec",
   "metadata": {
    "slideshow": {
     "slide_type": "fragment"
    }
   },
   "outputs": [
    {
     "name": "stdout",
     "output_type": "stream",
     "text": [
      "gs://test-ingestion100/internet/internet_data_json_2021-04-01_00:00:00.json\n"
     ]
    },
    {
     "name": "stderr",
     "output_type": "stream",
     "text": [
      "1it [00:09,  9.03s/it]\n"
     ]
    },
    {
     "data": {
      "text/plain": [
       "'SUCCESS internet data'"
      ]
     },
     "execution_count": 63,
     "metadata": {},
     "output_type": "execute_result"
    }
   ],
   "source": [
    "event = {\"bucket\":\"test-ingestion100\", \"name\":\"internet/internet_data_json_2021-04-01_00:00:00.json\"}\n",
    "hello_gcs(event, \"hello\")"
   ]
  },
  {
   "cell_type": "markdown",
   "id": "fe0772d4",
   "metadata": {
    "slideshow": {
     "slide_type": "slide"
    }
   },
   "source": [
    "<h1>Function for Loading Data Intro BigQuery</h1>"
   ]
  },
  {
   "cell_type": "code",
   "execution_count": 10,
   "id": "def050be-c9b6-4e39-aea0-c6e8f08d1999",
   "metadata": {
    "slideshow": {
     "slide_type": "fragment"
    }
   },
   "outputs": [],
   "source": [
    "def to_bq(df, TABLE_ID):\n",
    "    client = bigquery.Client()\n",
    "    job_config = bigquery.LoadJobConfig(write_disposition='WRITE_TRUNCATE', autodetect = True)\n",
    "    load_job = client.load_table_from_dataframe(df, table_id, job_config=job_config)  # Make an API request.\n",
    "    #load_job.result()\n",
    "    return 'SUCCESS'"
   ]
  },
  {
   "cell_type": "code",
   "execution_count": null,
   "id": "d6d5e4d2-f512-4308-b96d-581cf1936e00",
   "metadata": {
    "slideshow": {
     "slide_type": "skip"
    }
   },
   "outputs": [],
   "source": [
    "client = bigquery.Client()\n",
    "table_id = 'acn-in-cf-data-ggl-aca-c01-t04.test1.CDR_special1'\n",
    "job_config = bigquery.LoadJobConfig(write_disposition='WRITE_TRUNCATE', autodetect = True)\n",
    "\n",
    "load_job = client.load_table_from_dataframe(df, table_id, job_config=job_config)  # Make an API request.\n",
    "print('test')\n",
    "load_job.result()\n",
    "print(\"SUCCESS \")"
   ]
  },
  {
   "cell_type": "code",
   "execution_count": 50,
   "id": "3af943eb-f1bc-40b8-86d2-409a0f557569",
   "metadata": {
    "slideshow": {
     "slide_type": "skip"
    }
   },
   "outputs": [
    {
     "name": "stdout",
     "output_type": "stream",
     "text": [
      "NO\n"
     ]
    }
   ],
   "source": [
    "if('customer' in INPUT_PATH):\n",
    "    print(\"YES\")\n",
    "else: print(\"NO\")"
   ]
  },
  {
   "cell_type": "code",
   "execution_count": 66,
   "id": "babfd37b-7e40-4200-9327-90a538cc43ca",
   "metadata": {
    "slideshow": {
     "slide_type": "skip"
    }
   },
   "outputs": [
    {
     "name": "stdout",
     "output_type": "stream",
     "text": [
      "Requirement already satisfied: fsspec in /opt/conda/lib/python3.7/site-packages (2021.8.1)\n"
     ]
    }
   ],
   "source": [
    "!pip3 install fsspec"
   ]
  },
  {
   "cell_type": "code",
   "execution_count": 70,
   "id": "4d7f2a32-597a-4551-bb41-f7ccaa0bb858",
   "metadata": {
    "slideshow": {
     "slide_type": "skip"
    }
   },
   "outputs": [
    {
     "name": "stdout",
     "output_type": "stream",
     "text": [
      "Requirement already satisfied: gcsfs in /opt/conda/lib/python3.7/site-packages (2021.8.1)\n",
      "Requirement already satisfied: requests in /opt/conda/lib/python3.7/site-packages (from gcsfs) (2.25.1)\n",
      "Requirement already satisfied: google-auth>=1.2 in /opt/conda/lib/python3.7/site-packages (from gcsfs) (1.35.0)\n",
      "Requirement already satisfied: decorator in /opt/conda/lib/python3.7/site-packages (from gcsfs) (5.1.0)\n",
      "Requirement already satisfied: fsspec==2021.08.1 in /opt/conda/lib/python3.7/site-packages (from gcsfs) (2021.8.1)\n",
      "Requirement already satisfied: aiohttp in /opt/conda/lib/python3.7/site-packages (from gcsfs) (3.7.4.post0)\n",
      "Requirement already satisfied: google-auth-oauthlib in /opt/conda/lib/python3.7/site-packages (from gcsfs) (0.4.6)\n",
      "Requirement already satisfied: rsa<5,>=3.1.4 in /opt/conda/lib/python3.7/site-packages (from google-auth>=1.2->gcsfs) (4.7.2)\n",
      "Requirement already satisfied: pyasn1-modules>=0.2.1 in /opt/conda/lib/python3.7/site-packages (from google-auth>=1.2->gcsfs) (0.2.7)\n",
      "Requirement already satisfied: cachetools<5.0,>=2.0.0 in /opt/conda/lib/python3.7/site-packages (from google-auth>=1.2->gcsfs) (4.2.2)\n",
      "Requirement already satisfied: six>=1.9.0 in /opt/conda/lib/python3.7/site-packages (from google-auth>=1.2->gcsfs) (1.16.0)\n",
      "Requirement already satisfied: setuptools>=40.3.0 in /opt/conda/lib/python3.7/site-packages (from google-auth>=1.2->gcsfs) (58.0.4)\n",
      "Requirement already satisfied: pyasn1<0.5.0,>=0.4.6 in /opt/conda/lib/python3.7/site-packages (from pyasn1-modules>=0.2.1->google-auth>=1.2->gcsfs) (0.4.8)\n",
      "Requirement already satisfied: multidict<7.0,>=4.5 in /opt/conda/lib/python3.7/site-packages (from aiohttp->gcsfs) (5.1.0)\n",
      "Requirement already satisfied: yarl<2.0,>=1.0 in /opt/conda/lib/python3.7/site-packages (from aiohttp->gcsfs) (1.6.3)\n",
      "Requirement already satisfied: attrs>=17.3.0 in /opt/conda/lib/python3.7/site-packages (from aiohttp->gcsfs) (21.2.0)\n",
      "Requirement already satisfied: chardet<5.0,>=2.0 in /opt/conda/lib/python3.7/site-packages (from aiohttp->gcsfs) (4.0.0)\n",
      "Requirement already satisfied: async-timeout<4.0,>=3.0 in /opt/conda/lib/python3.7/site-packages (from aiohttp->gcsfs) (3.0.1)\n",
      "Requirement already satisfied: typing-extensions>=3.6.5 in /opt/conda/lib/python3.7/site-packages (from aiohttp->gcsfs) (3.10.0.2)\n",
      "Requirement already satisfied: idna>=2.0 in /opt/conda/lib/python3.7/site-packages (from yarl<2.0,>=1.0->aiohttp->gcsfs) (2.10)\n",
      "Requirement already satisfied: requests-oauthlib>=0.7.0 in /opt/conda/lib/python3.7/site-packages (from google-auth-oauthlib->gcsfs) (1.3.0)\n",
      "Requirement already satisfied: oauthlib>=3.0.0 in /opt/conda/lib/python3.7/site-packages (from requests-oauthlib>=0.7.0->google-auth-oauthlib->gcsfs) (3.1.1)\n",
      "Requirement already satisfied: urllib3<1.27,>=1.21.1 in /opt/conda/lib/python3.7/site-packages (from requests->gcsfs) (1.26.6)\n",
      "Requirement already satisfied: certifi>=2017.4.17 in /opt/conda/lib/python3.7/site-packages (from requests->gcsfs) (2021.5.30)\n"
     ]
    }
   ],
   "source": [
    "!pip3 install gcsfs"
   ]
  },
  {
   "cell_type": "code",
   "execution_count": 93,
   "id": "f9edebf5-9ac8-4bc0-875c-5d2eb71e2321",
   "metadata": {
    "slideshow": {
     "slide_type": "skip"
    }
   },
   "outputs": [],
   "source": [
    "def ingest_CDR_data(INPUT_PATH):\n",
    "    data = pd.read_json(INPUT_PATH, lines=True)\n",
    "    source_no = []\n",
    "    dest_no = []\n",
    "    start_time = []\n",
    "    duration = []\n",
    "    source_operator = []\n",
    "    dest_operator = []\n",
    "    source_location = []\n",
    "    dest_location = []\n",
    "    disposition = []\n",
    "    for lab, row in data.iterrows():\n",
    "        source_no.append(row['source']['msisdn'])\n",
    "        dest_no.append(row['destination']['msisdn'])\n",
    "        start_time.append(row['root']['start_time'])\n",
    "        duration.append(float(row['root']['duration']))\n",
    "        source_operator.append(row['source']['operator'])\n",
    "        dest_operator.append(row['destination']['operator'])\n",
    "        source_location.append(row['source']['location'])\n",
    "        dest_location.append(row['destination']['location'])\n",
    "        disposition.append(row['root']['disposition'])\n",
    "    df = pd.DataFrame()\n",
    "    df['source_no'] = source_no\n",
    "    df['dest_no'] = dest_no\n",
    "    df['start_time1'] = start_time\n",
    "    df['start_time'] = pd.to_datetime(df['start_time1'])\n",
    "    df.drop('start_time1', axis = 1, inplace = True)\n",
    "    df['duration'] = duration\n",
    "    df['source_operator'] = source_operator\n",
    "    df['dest_operator'] = dest_operator\n",
    "    df['source_location'] = source_location\n",
    "    df['dest_location'] = dest_location\n",
    "    df['disposition'] = disposition\n",
    "    df.replace('nan', np.nan, inplace=True)\n",
    "    #df.to_gbq(OUTPUT_PATH,  project_id='acn-in-cf-data-ggl-aca-c01-t04', if_exists='append')\n",
    "    client = bigquery.Client(project='acn-in-cf-data-ggl-aca-c01-t04')\n",
    "    table_id = 'test1.CDR_special'\n",
    "    job_config = bigquery.LoadJobConfig(autodetect=True, write_disposition=bigquery.WriteDisposition.WRITE_APPEND)\n",
    "    try:\n",
    "        load_job = client.load_table_from_dataframe(df, table_id, job_config=job_config)  # Make an API request.\n",
    "        job.result()\n",
    "        return 'SUCCESS CDR'\n",
    "    except:\n",
    "        return 'ERROR'\n",
    "    #return \"SUCCESS CDR data\""
   ]
  },
  {
   "cell_type": "code",
   "execution_count": 95,
   "id": "ddefaeb6-0c06-441d-95f2-604b866c8d78",
   "metadata": {
    "slideshow": {
     "slide_type": "skip"
    }
   },
   "outputs": [
    {
     "ename": "NameError",
     "evalue": "name 'df' is not defined",
     "output_type": "error",
     "traceback": [
      "\u001b[0;31m---------------------------------------------------------------------------\u001b[0m",
      "\u001b[0;31mNameError\u001b[0m                                 Traceback (most recent call last)",
      "\u001b[0;32m/tmp/ipykernel_24811/964094849.py\u001b[0m in \u001b[0;36m<module>\u001b[0;34m\u001b[0m\n\u001b[0;32m----> 1\u001b[0;31m \u001b[0mdf\u001b[0m\u001b[0;34m.\u001b[0m\u001b[0mhead\u001b[0m\u001b[0;34m(\u001b[0m\u001b[0;34m)\u001b[0m\u001b[0;34m\u001b[0m\u001b[0;34m\u001b[0m\u001b[0m\n\u001b[0m",
      "\u001b[0;31mNameError\u001b[0m: name 'df' is not defined"
     ]
    }
   ],
   "source": [
    "df.head()"
   ]
  },
  {
   "cell_type": "code",
   "execution_count": 86,
   "id": "99be8189-726e-4f42-a085-f9cc34294861",
   "metadata": {
    "slideshow": {
     "slide_type": "skip"
    }
   },
   "outputs": [],
   "source": [
    "def df_to_bq(df, table_id, client):\n",
    "    job_config = bigquery.LoadJobConfig(autodetect=True, write_disposition=bigquery.WriteDisposition.WRITE_APPEND)\n",
    "    #table = get_bigquery_table(table_id, dataset_id, client)\n",
    "    try:\n",
    "        load_job = client.load_table_from_dataframe(df, table_id, job_config=job_config)  # Make an API request.\n",
    "        load_job.result()  # Waits for the job to complete.\n",
    "        # if load_job.errors:\n",
    "        #     logging.info(f\"result={load_job.error_result}\")\n",
    "        #     logging.info(f\"errors = {load_job.errors}\")\n",
    "        # else:\n",
    "        #     logging.info(f'Loaded {len(df)} rows.')\n",
    "\n",
    "    except Exception as error:\n",
    "        return 'Error'\n",
    "\n",
    "    # if load_job.errors:\n",
    "    #     logging.info(f\"result={load_job.error_result}\")\n",
    "    #     logging.info(f\"errors={load_job.errors}\")\n",
    "    #return table\n",
    "    return 'SUCCESS'"
   ]
  },
  {
   "cell_type": "code",
   "execution_count": 94,
   "id": "efc47be1-6c63-4887-9b3d-fc891b236d78",
   "metadata": {
    "slideshow": {
     "slide_type": "skip"
    }
   },
   "outputs": [
    {
     "data": {
      "text/plain": [
       "'ERROR'"
      ]
     },
     "execution_count": 94,
     "metadata": {},
     "output_type": "execute_result"
    }
   ],
   "source": [
    "ingest_CDR_data('gs://test-ingestion100/CDR/data_json_2021-04-01_00:00:00.json')"
   ]
  },
  {
   "cell_type": "code",
   "execution_count": 15,
   "id": "8a413e0f-ff84-4d68-84a5-6159beaae5ab",
   "metadata": {
    "slideshow": {
     "slide_type": "skip"
    }
   },
   "outputs": [
    {
     "name": "stdout",
     "output_type": "stream",
     "text": [
      "Requirement already satisfied: pyarrow in /opt/conda/lib/python3.7/site-packages (5.0.0)\n",
      "Requirement already satisfied: numpy>=1.16.6 in /opt/conda/lib/python3.7/site-packages (from pyarrow) (1.19.5)\n"
     ]
    }
   ],
   "source": [
    "!pip3 install pyarrow"
   ]
  }
 ],
 "metadata": {
  "celltoolbar": "Slideshow",
  "environment": {
   "name": "common-cpu.m80",
   "type": "gcloud",
   "uri": "gcr.io/deeplearning-platform-release/base-cpu:m80"
  },
  "kernelspec": {
   "display_name": "Python 3",
   "language": "python",
   "name": "python3"
  },
  "language_info": {
   "codemirror_mode": {
    "name": "ipython",
    "version": 3
   },
   "file_extension": ".py",
   "mimetype": "text/x-python",
   "name": "python",
   "nbconvert_exporter": "python",
   "pygments_lexer": "ipython3",
   "version": "3.7.10"
  }
 },
 "nbformat": 4,
 "nbformat_minor": 5
}
