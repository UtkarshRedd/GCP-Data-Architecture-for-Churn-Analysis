{
 "cells": [
  {
   "cell_type": "markdown",
   "id": "53cc432f",
   "metadata": {},
   "source": [
    "## Importing the necessary libraries"
   ]
  },
  {
   "cell_type": "code",
   "execution_count": 27,
   "id": "f8094763-86a8-477d-b604-afaf53781106",
   "metadata": {},
   "outputs": [],
   "source": [
    "import pandas as pd\n",
    "import json\n",
    "from google.cloud import storage\n",
    "from pyspark.sql import SparkSession\n",
    "import re\n",
    "import ast\n",
    "from google.cloud import bigquery\n",
    "import numpy as np\n",
    "import seaborn as sns"
   ]
  },
  {
   "cell_type": "code",
   "execution_count": 32,
   "id": "ef67a48e-8df4-4347-bc47-e5dba6076afd",
   "metadata": {},
   "outputs": [],
   "source": [
    "def ingest_internet_data(INPUT_PATH, OUTPUT_PATH):\n",
    "    '''\n",
    "    Function to import Internet data from Google Cloud Storage\n",
    "    '''\n",
    "    data = pd.read_json(INPUT_PATH, lines=True)\n",
    "    phone_no = []\n",
    "    source_IP = []\n",
    "    dest_IP = []\n",
    "    start_time = []\n",
    "    source_port = []\n",
    "    dest_port = []\n",
    "    ASN = []\n",
    "    no_of_packets = []\n",
    "    no_of_bytes = []\n",
    "    for lab, row in data.iterrows():\n",
    "        phone_no.append(row['root']['phone_number'])\n",
    "        source_IP.append(row['source']['ip'])\n",
    "        dest_IP.append(row['destination']['ip'])\n",
    "        start_time.append(row['root']['time'])\n",
    "        source_port.append(row['source']['port'])\n",
    "        dest_port.append(row['destination']['port'])\n",
    "        ASN.append(row['root']['asn'])\n",
    "        no_of_packets.append(float(row['root']['num_packets']))\n",
    "        no_of_bytes.append(float(row['root']['num_bytes']))\n",
    "        df = pd.DataFrame()\n",
    "    df['phone_no'] = phone_no\n",
    "    df['source_IP'] = source_IP\n",
    "    df['dest_IP'] = dest_IP\n",
    "    df['start_time1'] = start_time\n",
    "    df['start_time'] = pd.to_datetime(df['start_time1'])\n",
    "    df.drop('start_time1', axis = 1, inplace = True)\n",
    "    df['source_port'] = source_port\n",
    "    df['dest_port'] = dest_port\n",
    "    df['ASN'] = ASN\n",
    "    df['no_of_packets'] = no_of_packets\n",
    "    df['no_of_bytes'] = no_of_bytes\n",
    "    df.replace('nan', np.nan, inplace=True)\n",
    "    df.to_gbq(OUTPUT_PATH,  project_id='acn-in-cf-data-ggl-aca-c01-t04', if_exists='replace')"
   ]
  },
  {
   "cell_type": "code",
   "execution_count": 33,
   "id": "880ee3ee-91ef-464e-a4fa-37d2779d4964",
   "metadata": {},
   "outputs": [
    {
     "name": "stderr",
     "output_type": "stream",
     "text": [
      "1it [00:05,  5.08s/it]\n"
     ]
    }
   ],
   "source": [
    "ingest_internet_data(\"gs://in-telecom-t4/Test/internet_data_json_2021-04-01_00:00:00.json\", 'test1.internet_test2')"
   ]
  },
  {
   "cell_type": "markdown",
   "id": "ae730ce8-e89a-4943-aff3-28d376e29d8f",
   "metadata": {},
   "source": [
    "<strong>*********************************************************************************************************************************************</strong>"
   ]
  },
  {
   "cell_type": "markdown",
   "id": "2239e9b7",
   "metadata": {},
   "source": [
    "## EDA of a sample of the Internet Data"
   ]
  },
  {
   "cell_type": "code",
   "execution_count": 3,
   "id": "e5a9a581-199e-491d-bd9f-cca94ac50502",
   "metadata": {},
   "outputs": [
    {
     "data": {
      "text/html": [
       "<div>\n",
       "<style scoped>\n",
       "    .dataframe tbody tr th:only-of-type {\n",
       "        vertical-align: middle;\n",
       "    }\n",
       "\n",
       "    .dataframe tbody tr th {\n",
       "        vertical-align: top;\n",
       "    }\n",
       "\n",
       "    .dataframe thead th {\n",
       "        text-align: right;\n",
       "    }\n",
       "</style>\n",
       "<table border=\"1\" class=\"dataframe\">\n",
       "  <thead>\n",
       "    <tr style=\"text-align: right;\">\n",
       "      <th></th>\n",
       "      <th>root</th>\n",
       "      <th>source</th>\n",
       "      <th>destination</th>\n",
       "      <th>roaming</th>\n",
       "    </tr>\n",
       "  </thead>\n",
       "  <tbody>\n",
       "    <tr>\n",
       "      <th>0</th>\n",
       "      <td>{'phone_number': '1209371123921', 'time': '202...</td>\n",
       "      <td>{'ip': '135.0777d.04511.232', 'port': '36619.0'}</td>\n",
       "      <td>{'ip': '135.b1d10.d1c38.150', 'port': '22.0'}</td>\n",
       "      <td>{'Bool': '0.0', 'partner': 'nan'}</td>\n",
       "    </tr>\n",
       "    <tr>\n",
       "      <th>1</th>\n",
       "      <td>{'phone_number': '1148414940387', 'time': '202...</td>\n",
       "      <td>{'ip': '135.0777d.04511.237', 'port': '60422.0'}</td>\n",
       "      <td>{'ip': '135.b1d10.d1c38.118', 'port': '22.0'}</td>\n",
       "      <td>{'Bool': '1.0', 'partner': 'Cole-Moreno'}</td>\n",
       "    </tr>\n",
       "    <tr>\n",
       "      <th>2</th>\n",
       "      <td>{'phone_number': '5312921847983', 'time': '202...</td>\n",
       "      <td>{'ip': '135.b1d10.6f3ef.110', 'port': 'nan'}</td>\n",
       "      <td>{'ip': '135.0777d.04511.237', 'port': '37862.0'}</td>\n",
       "      <td>{'Bool': '1.0', 'partner': 'Bird PLC'}</td>\n",
       "    </tr>\n",
       "    <tr>\n",
       "      <th>3</th>\n",
       "      <td>{'phone_number': '5009422257441', 'time': '202...</td>\n",
       "      <td>{'ip': '135.fa7cd.19ca1.167', 'port': '65357.0'}</td>\n",
       "      <td>{'ip': '135.b1d10.091d5.211', 'port': '22.0'}</td>\n",
       "      <td>{'Bool': '1.0', 'partner': 'Cole-Moreno'}</td>\n",
       "    </tr>\n",
       "    <tr>\n",
       "      <th>4</th>\n",
       "      <td>{'phone_number': '8479748385471', 'time': '202...</td>\n",
       "      <td>{'ip': '135.0777d.04511.237', 'port': '59679.0'}</td>\n",
       "      <td>{'ip': '135.b1d10.b1d10.27', 'port': '22.0'}</td>\n",
       "      <td>{'Bool': '1.0', 'partner': 'Cole-Moreno'}</td>\n",
       "    </tr>\n",
       "  </tbody>\n",
       "</table>\n",
       "</div>"
      ],
      "text/plain": [
       "                                                root  \\\n",
       "0  {'phone_number': '1209371123921', 'time': '202...   \n",
       "1  {'phone_number': '1148414940387', 'time': '202...   \n",
       "2  {'phone_number': '5312921847983', 'time': '202...   \n",
       "3  {'phone_number': '5009422257441', 'time': '202...   \n",
       "4  {'phone_number': '8479748385471', 'time': '202...   \n",
       "\n",
       "                                             source  \\\n",
       "0  {'ip': '135.0777d.04511.232', 'port': '36619.0'}   \n",
       "1  {'ip': '135.0777d.04511.237', 'port': '60422.0'}   \n",
       "2      {'ip': '135.b1d10.6f3ef.110', 'port': 'nan'}   \n",
       "3  {'ip': '135.fa7cd.19ca1.167', 'port': '65357.0'}   \n",
       "4  {'ip': '135.0777d.04511.237', 'port': '59679.0'}   \n",
       "\n",
       "                                        destination  \\\n",
       "0     {'ip': '135.b1d10.d1c38.150', 'port': '22.0'}   \n",
       "1     {'ip': '135.b1d10.d1c38.118', 'port': '22.0'}   \n",
       "2  {'ip': '135.0777d.04511.237', 'port': '37862.0'}   \n",
       "3     {'ip': '135.b1d10.091d5.211', 'port': '22.0'}   \n",
       "4      {'ip': '135.b1d10.b1d10.27', 'port': '22.0'}   \n",
       "\n",
       "                                     roaming  \n",
       "0          {'Bool': '0.0', 'partner': 'nan'}  \n",
       "1  {'Bool': '1.0', 'partner': 'Cole-Moreno'}  \n",
       "2     {'Bool': '1.0', 'partner': 'Bird PLC'}  \n",
       "3  {'Bool': '1.0', 'partner': 'Cole-Moreno'}  \n",
       "4  {'Bool': '1.0', 'partner': 'Cole-Moreno'}  "
      ]
     },
     "execution_count": 3,
     "metadata": {},
     "output_type": "execute_result"
    }
   ],
   "source": [
    "data = pd.read_json(\"gs://in-telecom-t4/Test/internet_data_json_2021-04-01_00:00:00.json\", lines=True)\n",
    "data.head()"
   ]
  },
  {
   "cell_type": "code",
   "execution_count": 4,
   "id": "016490d7-56d7-4c54-9944-bf06ac2776a0",
   "metadata": {},
   "outputs": [
    {
     "name": "stdout",
     "output_type": "stream",
     "text": [
      "{'phone_number': '1209371123921', 'time': '2021-04-01 01:04:49', 'flags': '----S-,---R--,-A----,-A---F,-AP---', 'site': '45c48', 'asn': 'c4ca4', 'num_packets': '7.0', 'num_bytes': '385.0', 'usn': '80595433217787509749'}\n",
      "{'ip': '135.0777d.04511.232', 'port': '36619.0'}\n",
      "{'ip': '135.b1d10.d1c38.150', 'port': '22.0'}\n",
      "{'Bool': '0.0', 'partner': 'nan'}\n"
     ]
    }
   ],
   "source": [
    "for cols in data.columns:\n",
    "    print(data[cols][0])"
   ]
  },
  {
   "cell_type": "code",
   "execution_count": 20,
   "id": "1d2bc7ee-e34a-41c0-810d-fc441ed63489",
   "metadata": {},
   "outputs": [],
   "source": [
    "phone_no = []\n",
    "source_IP = []\n",
    "dest_IP = []\n",
    "start_time = []\n",
    "source_port = []\n",
    "dest_port = []\n",
    "ASN = []\n",
    "no_of_packets = []\n",
    "no_of_bytes = []"
   ]
  },
  {
   "cell_type": "code",
   "execution_count": 21,
   "id": "0f935af3-5c96-4f13-b88e-ec59b359812c",
   "metadata": {},
   "outputs": [],
   "source": [
    "for lab, row in data.iterrows():\n",
    "    phone_no.append(row['root']['phone_number'])\n",
    "    source_IP.append(row['source']['ip'])\n",
    "    dest_IP.append(row['destination']['ip'])\n",
    "    start_time.append(row['root']['time'])\n",
    "    source_port.append(row['source']['port'])\n",
    "    dest_port.append(row['destination']['port'])\n",
    "    ASN.append(row['root']['asn'])\n",
    "    no_of_packets.append(float(row['root']['num_packets']))\n",
    "    no_of_bytes.append(float(row['root']['num_bytes']))"
   ]
  },
  {
   "cell_type": "code",
   "execution_count": 24,
   "id": "b85d3b93-2e2f-4996-a5e9-3710a9096a06",
   "metadata": {},
   "outputs": [],
   "source": [
    "df = pd.DataFrame()\n",
    "df['phone_no'] = phone_no\n",
    "df['source_IP'] = source_IP\n",
    "df['dest_IP'] = dest_IP\n",
    "df['start_time1'] = start_time\n",
    "df['start_time'] = pd.to_datetime(df['start_time1'])\n",
    "df.drop('start_time1', axis = 1, inplace = True)\n",
    "df['source_port'] = source_port\n",
    "df['dest_port'] = dest_port\n",
    "df['ASN'] = ASN\n",
    "df['no_of_packets'] = no_of_packets\n",
    "df['no_of_bytes'] = no_of_bytes\n",
    "df.replace('nan', np.nan, inplace=True)"
   ]
  },
  {
   "cell_type": "code",
   "execution_count": 25,
   "id": "a5a03400-6b4f-4df8-83c6-d8dde8dc452a",
   "metadata": {},
   "outputs": [
    {
     "data": {
      "text/html": [
       "<div>\n",
       "<style scoped>\n",
       "    .dataframe tbody tr th:only-of-type {\n",
       "        vertical-align: middle;\n",
       "    }\n",
       "\n",
       "    .dataframe tbody tr th {\n",
       "        vertical-align: top;\n",
       "    }\n",
       "\n",
       "    .dataframe thead th {\n",
       "        text-align: right;\n",
       "    }\n",
       "</style>\n",
       "<table border=\"1\" class=\"dataframe\">\n",
       "  <thead>\n",
       "    <tr style=\"text-align: right;\">\n",
       "      <th></th>\n",
       "      <th>phone_no</th>\n",
       "      <th>source_IP</th>\n",
       "      <th>dest_IP</th>\n",
       "      <th>start_time</th>\n",
       "      <th>source_port</th>\n",
       "      <th>dest_port</th>\n",
       "      <th>ASN</th>\n",
       "      <th>no_of_packets</th>\n",
       "      <th>no_of_bytes</th>\n",
       "    </tr>\n",
       "  </thead>\n",
       "  <tbody>\n",
       "    <tr>\n",
       "      <th>0</th>\n",
       "      <td>1209371123921</td>\n",
       "      <td>135.0777d.04511.232</td>\n",
       "      <td>135.b1d10.d1c38.150</td>\n",
       "      <td>2021-04-01 01:04:49</td>\n",
       "      <td>36619.0</td>\n",
       "      <td>22.0</td>\n",
       "      <td>c4ca4</td>\n",
       "      <td>7.0</td>\n",
       "      <td>385.0</td>\n",
       "    </tr>\n",
       "    <tr>\n",
       "      <th>1</th>\n",
       "      <td>1148414940387</td>\n",
       "      <td>135.0777d.04511.237</td>\n",
       "      <td>135.b1d10.d1c38.118</td>\n",
       "      <td>2021-04-01 01:04:54</td>\n",
       "      <td>60422.0</td>\n",
       "      <td>22.0</td>\n",
       "      <td>c4ca4</td>\n",
       "      <td>12.0</td>\n",
       "      <td>1008.0</td>\n",
       "    </tr>\n",
       "    <tr>\n",
       "      <th>2</th>\n",
       "      <td>5312921847983</td>\n",
       "      <td>135.b1d10.6f3ef.110</td>\n",
       "      <td>135.0777d.04511.237</td>\n",
       "      <td>2021-04-01 01:04:46</td>\n",
       "      <td>NaN</td>\n",
       "      <td>37862.0</td>\n",
       "      <td>c4ca4</td>\n",
       "      <td>5.0</td>\n",
       "      <td>420.0</td>\n",
       "    </tr>\n",
       "    <tr>\n",
       "      <th>3</th>\n",
       "      <td>5009422257441</td>\n",
       "      <td>135.fa7cd.19ca1.167</td>\n",
       "      <td>135.b1d10.091d5.211</td>\n",
       "      <td>2021-04-01 00:04:27</td>\n",
       "      <td>65357.0</td>\n",
       "      <td>22.0</td>\n",
       "      <td>c4ca4</td>\n",
       "      <td>21.0</td>\n",
       "      <td>2868.0</td>\n",
       "    </tr>\n",
       "    <tr>\n",
       "      <th>4</th>\n",
       "      <td>8479748385471</td>\n",
       "      <td>135.0777d.04511.237</td>\n",
       "      <td>135.b1d10.b1d10.27</td>\n",
       "      <td>2021-04-01 01:04:55</td>\n",
       "      <td>59679.0</td>\n",
       "      <td>22.0</td>\n",
       "      <td>c4ca4</td>\n",
       "      <td>11.0</td>\n",
       "      <td>956.0</td>\n",
       "    </tr>\n",
       "  </tbody>\n",
       "</table>\n",
       "</div>"
      ],
      "text/plain": [
       "        phone_no            source_IP              dest_IP  \\\n",
       "0  1209371123921  135.0777d.04511.232  135.b1d10.d1c38.150   \n",
       "1  1148414940387  135.0777d.04511.237  135.b1d10.d1c38.118   \n",
       "2  5312921847983  135.b1d10.6f3ef.110  135.0777d.04511.237   \n",
       "3  5009422257441  135.fa7cd.19ca1.167  135.b1d10.091d5.211   \n",
       "4  8479748385471  135.0777d.04511.237   135.b1d10.b1d10.27   \n",
       "\n",
       "           start_time source_port dest_port    ASN  no_of_packets  no_of_bytes  \n",
       "0 2021-04-01 01:04:49     36619.0      22.0  c4ca4            7.0        385.0  \n",
       "1 2021-04-01 01:04:54     60422.0      22.0  c4ca4           12.0       1008.0  \n",
       "2 2021-04-01 01:04:46         NaN   37862.0  c4ca4            5.0        420.0  \n",
       "3 2021-04-01 00:04:27     65357.0      22.0  c4ca4           21.0       2868.0  \n",
       "4 2021-04-01 01:04:55     59679.0      22.0  c4ca4           11.0        956.0  "
      ]
     },
     "execution_count": 25,
     "metadata": {},
     "output_type": "execute_result"
    }
   ],
   "source": [
    "df.head()"
   ]
  },
  {
   "cell_type": "markdown",
   "id": "bb5bbe7b",
   "metadata": {},
   "source": [
    "## Loading the ingested Internet data to BigQuery"
   ]
  },
  {
   "cell_type": "code",
   "execution_count": 30,
   "id": "4dbe6d38-f8ad-4565-8d96-24c8bf5bd28c",
   "metadata": {},
   "outputs": [
    {
     "name": "stderr",
     "output_type": "stream",
     "text": [
      "1it [00:04,  4.94s/it]\n"
     ]
    }
   ],
   "source": [
    "df.to_gbq('test1.internet_test1',  project_id='acn-in-cf-data-ggl-aca-c01-t04', if_exists='replace')"
   ]
  },
  {
   "cell_type": "code",
   "execution_count": 35,
   "id": "e7f36e79-09d2-42a1-91f8-35440fe7aa62",
   "metadata": {},
   "outputs": [
    {
     "data": {
      "text/plain": [
       "False    9779\n",
       "True      488\n",
       "Name: source_IP, dtype: int64"
      ]
     },
     "execution_count": 35,
     "metadata": {},
     "output_type": "execute_result"
    }
   ],
   "source": [
    "df['source_IP'].isnull().value_counts()"
   ]
  },
  {
   "cell_type": "code",
   "execution_count": 36,
   "id": "a29a66d9-bc9b-4b7f-ad29-996dce460817",
   "metadata": {},
   "outputs": [
    {
     "data": {
      "image/png": "[encoded data removed]",
      "text/plain": [
       "<Figure size 432x288 with 2 Axes>"
      ]
     },
     "metadata": {
      "needs_background": "light"
     },
     "output_type": "display_data"
    }
   ],
   "source": [
    "sns.heatmap(df.isnull());"
   ]
  }
 ],
 "metadata": {
  "environment": {
   "name": "common-cpu.m80",
   "type": "gcloud",
   "uri": "gcr.io/deeplearning-platform-release/base-cpu:m80"
  },
  "kernelspec": {
   "display_name": "Python 3",
   "language": "python",
   "name": "python3"
  },
  "language_info": {
   "codemirror_mode": {
    "name": "ipython",
    "version": 3
   },
   "file_extension": ".py",
   "mimetype": "text/x-python",
   "name": "python",
   "nbconvert_exporter": "python",
   "pygments_lexer": "ipython3",
   "version": "3.7.10"
  }
 },
 "nbformat": 4,
 "nbformat_minor": 5
}
